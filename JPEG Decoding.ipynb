{
 "cells": [
  {
   "cell_type": "markdown",
   "metadata": {},
   "source": [
    "# JPEG Decoding\n",
    "## An in-depth look at the JPEG File Interchange Format with Python3\n",
    "#### Skyler Rankin, 2019\n",
    "##### *Version 0.1*"
   ]
  },
  {
   "cell_type": "markdown",
   "metadata": {},
   "source": [
    "### Introduction\n",
    "This notebook explores the mechanisms and algorithms at play behind one of the most widely used image file formats. In short, by parsing the file byte by byte, and using a specification reference, we can interpret all of the information stored in the file, and even generate the corresponding image without a pre-built image viewer. The primary reference used will be the [International Telecommunication Union Recommendation T.81](https://www.w3.org/Graphics/JPEG/itu-t81.pdf).\n",
    "\n",
    "### Table of Contents\n",
    "#### [Section 1](#1) | JPEG Structure\n",
    "#### [Section 2](#2) | Decoder Architecture\n",
    "#### [Section 3](#3) | Parsing Segments: Part 1\n",
    "#### [Section 4](#4) | Huffman Encoding\n",
    "#### [Section 5](#5) | Parsing Segments: Part 2\n",
    "#### [Section 6](#6) | Scan Data\n",
    "#### [Section 7](#7) | Notes"
   ]
  },
  {
   "cell_type": "markdown",
   "metadata": {},
   "source": [
    "## Section 1: JPEG Structure<a name=\"1\"></a>\n",
    "First, we must select an image to work with. I have included a small default image with this repository for testing. We can display the image by doing the following:"
   ]
  },
  {
   "cell_type": "code",
   "execution_count": 14,
   "metadata": {},
   "outputs": [
    {
     "data": {
      "image/jpeg": "[encoded data removed]",
      "text/plain": [
       "<IPython.core.display.Image object>"
      ]
     },
     "execution_count": 14,
     "metadata": {
      "image/jpeg": {
       "width": 200
      }
     },
     "output_type": "execute_result"
    }
   ],
   "source": [
    "from IPython.display import Image\n",
    "image_filename = \"colors.jpg\"\n",
    "Image(\"colors.jpg\", width=200)"
   ]
  },
  {
   "cell_type": "markdown",
   "metadata": {},
   "source": [
    "### 1.1 -  Raw Information\n",
    "Like any digitally file stored, a JPEG image at its simplest digital form is a chunk of binary data. We can see this by printing out the contents of the file directly. This could be done in binary, but hex is far easier to read. Hex values are base-16 numbers, using values `0-9` and `A-F`. On Windows, PowerShell has the command `fhx`, which can print out the contents of a file as hex. Similar commands are `hexdump` on Linux and `TODO` on MacOS. We see the results below: \n",
    "<img src=\"images/1.1.jpg\">\n",
    "\n",
    "The left most column is showing byte numbers as hex values; the first line starts with byte `0...0` which is also `0` as decimal, the second line starts with byte `0...10` or `16` as a decimal, so we can see each row contains 16 bytes from the image data. The center column shows the bytes that are being read from the file, and the right most column shows TODO.\n",
    "This is the data, the entire contents of some image. It is up to the decoder to make sense of all these values and produce an image that actually has a visual."
   ]
  },
  {
   "cell_type": "markdown",
   "metadata": {},
   "source": [
    "### 1.2 - Markers\n",
    "The structure of a JPEG file relies upon a system of **markers**. These are specific 2-byte sequences that are reserved for a specific purpose, so that when you see one in the file, you can be sure of its meaning. For convenience, I will represent these byte sequences as hex values preceeded by `0x`, meaning the decimal number `78` is represented as `1001110` as binary in the image file, but is written as `0x4E` in hex for our purposes. In the JPEG File Format, all markers are preceeded by `0xFF`, which makes the marker two bytes in total.\n",
    "The first markers to look for are the **SOI** and **EOI** markers. These signify **start of image** and **end of image** respectively.\n",
    "\n",
    "Marker | Value\n",
    "--- | --- \n",
    "SOI | 0xFFD8\n",
    "EOI | 0xFFD9\n",
    "\n",
    "We can be sure that no important information for the image will come before the `SOI` marker, and no information will come after the `EOI`. The information between these markers can be referred to as a segment. A common idea for structuring segments is using a **header**. A header is a small sequence of bytes at the beginning of a segment that describe what that segment contains. The specifics for the headers are dependent on the marker type, but we will see many of these headers as we parse the image file. An example of this is the `SOF0` marker, which denotes the **start of frame 0**. This segment uses the marker `0xC0` and contains information regarding the image data. The specifics of extracting information from headers will come in the next section.\n",
    "\n",
    "Before we can parse these headers and segments, it helps to define a function to convert the bytes read from the file as Python `byte` objects into pure integers. This makes storing and manipulating their values simpler later on. I've written the function `hti`, \"Hex To Integer\", to do just that: takes in a byte and returns the integer representation, followed by a test to show that it is working."
   ]
  },
  {
   "cell_type": "code",
   "execution_count": 15,
   "metadata": {},
   "outputs": [
    {
     "name": "stdout",
     "output_type": "stream",
     "text": [
      "Hex value 0xD8 converted with function:  216\n",
      "Actual integer value:  216\n"
     ]
    }
   ],
   "source": [
    "def hti(h):\n",
    "    return int.from_bytes(h, byteorder='big')\n",
    "\n",
    "print(\"Hex value 0xD8 converted with function: \",hti(b'\\xD8'))\n",
    "print(\"Actual integer value: \",16*13+8)"
   ]
  },
  {
   "cell_type": "markdown",
   "metadata": {},
   "source": [
    "Next we make a dictionary of all the markers that will be important for decoding the image. The first six are manually typed, and the final 16 are just a sequence of *APP0* through *APP16*. The meaning of all of these markers will becomes clear as we parse them from the file."
   ]
  },
  {
   "cell_type": "code",
   "execution_count": 16,
   "metadata": {},
   "outputs": [],
   "source": [
    "markers = {\n",
    "        0xFFD8: \"SOI\",\n",
    "        0xFFC0: \"SOF0\",\n",
    "        0xFFC4: \"DHT\",\n",
    "        0xFFDB: \"DQT\",\n",
    "        0xFFDA: \"SOS\",\n",
    "        0xFFD9: \"EOI\",\n",
    "    }\n",
    "for i in range(17):\n",
    "    markers[(0xFFE0+i)] = \"APP{}\".format(i)"
   ]
  },
  {
   "cell_type": "markdown",
   "metadata": {},
   "source": [
    "With all the markers defined, we can take a pass over the image and see what markers appear. To visualize this, I will draw a graph that checks when a marker is found, and then records the number of bytes until the next marker. This way, we can see how large each segment is, since each segment is started with some marker."
   ]
  },
  {
   "cell_type": "code",
   "execution_count": 54,
   "metadata": {},
   "outputs": [
    {
     "data": {
      "image/png": "[encoded data removed]",
      "text/plain": [
       "<Figure size 1080x216 with 1 Axes>"
      ]
     },
     "metadata": {
      "needs_background": "light"
     },
     "output_type": "display_data"
    }
   ],
   "source": [
    "import matplotlib.pyplot as plt\n",
    "import pandas as pd\n",
    "import numpy as np\n",
    "\n",
    "def visualize_segment_lengths(fn=image_filename):\n",
    "    file = open(fn, \"rb\")\n",
    "    segments = [[],[]]\n",
    "    s = 0\n",
    "    for i in range(11):\n",
    "        byte = (file.read(1), file.read(1))\n",
    "        s+=2\n",
    "        while hti(byte[0]+byte[1]) not in markers.keys():\n",
    "            byte = (byte[1], file.read(1))\n",
    "            s+=1\n",
    "        segments[0].append(byte[0]+byte[1])\n",
    "        if len(segments[0]) > 1 and len(segments[1]) > 0:\n",
    "            segments[1].append(s-2-segments[1][-1])\n",
    "        elif len(segments[0]) > 1:\n",
    "            segments[1].append(s-2)\n",
    "        if hti(byte[0]+byte[1]) == 65497:\n",
    "            break\n",
    "    segments[1].append(2)\n",
    "\n",
    "    df = pd.DataFrame([segments[1]], columns=[markers[hti(x)] for x in segments[0]])\n",
    "    df.plot.barh(stacked=True, figsize=(15, 3))\n",
    "    plt.legend(loc='center left', bbox_to_anchor=(1.0, 0.5), fontsize=\"large\")\n",
    "    plt.xlabel(\"Byte\")\n",
    "    file.close()\n",
    "visualize_segment_lengths()"
   ]
  },
  {
   "cell_type": "markdown",
   "metadata": {},
   "source": [
    "This provides a nice high level view of our image. As previously mentioned, the first and last markers we see are the SOI and EOI, and they both take up a rather small number of bytes out of the total. The bulk of the information seems to be with in the **DQT**, **DHT**, and **SOS** segments. These are all crucial to generating the image, and will be worked on in later sections.\n",
    "An interesting thing to note is the idea of metadata, information that is not image data, but rather is *about* image data. All of the segments with *APP* markers are metadata. This may contain information such as the device the image was taken on, the viewing angle of that device or the application that created the image (Photoshop, Paint, etc.). In this case, the image was created for use on the internet, which tends to cut out a lot of this unncessecary information. To see this metadata in action, let's recreate the same image in Photoshop and run the same visualization."
   ]
  },
  {
   "cell_type": "code",
   "execution_count": 18,
   "metadata": {},
   "outputs": [
    {
     "data": {
      "image/png": "[encoded data removed]",
      "text/plain": [
       "<Figure size 1080x216 with 1 Axes>"
      ]
     },
     "metadata": {
      "needs_background": "light"
     },
     "output_type": "display_data"
    }
   ],
   "source": [
    "visualize_segment_lengths(\"colors_metadata.jpg\")"
   ]
  },
  {
   "cell_type": "markdown",
   "metadata": {},
   "source": [
    "Clearly, this is a very different file structure. First off, the number of bytes between the SOI and EOI has increased nearly 5 fold. Before, there was a single APP1 segment, but now there are two. And perhaps most notibly, the APP1 segment takes up nearly as much data as the entire previous image! This goes to show that images seldom contain purely image data. These metadata segments can be interpreted as text to provide thousands of bytes of information regarding where this image came from. If you have ever wondered how it is possible that companies or the government can tell who took a picture, where, and at what time, it is likely because they are looking into one of these metadata segments. Thus, both to save space and preserve your privacy, it is quite easy and beneficial to use software, or write your own, that cuts out these segments, or does not generate them in the first place. This will be the last time we consider the *APP* segments, since they are not relavent to decoding."
   ]
  },
  {
   "cell_type": "markdown",
   "metadata": {},
   "source": [
    "## Section 2: Decoder Architecture\n",
    "\n",
    "With an understanding of what it inside a JPEG file, we can move on to the strategy for decoding it. Unfortunately, there is a bit more work required that just reading each segment. The whole idea of an image format such as JPEG is to save space. Unlike a bitmap image, which, as the name suggests, directly maps a pixel in the image to a bit for its color, JPEG is a complex and efficient compression technique, storing the image in much less space than if you were to store each color at each position directly. Nonetheless, each step in this process is pretty simple, with the first being to look at each segment.\n",
    "\n",
    "While parsing the segments, we will quickly acquire two important ones: **DHT** and **DQT**, which stand for Define Huffman Table and Define Quantization Table. The Huffman tables define a mapping between strings of bits we find in the image data and some value, while the quantization tables define a function we can use to convert data that is organized by frequency to data that is organized by its position in the image. We will discuss these both later on in more detail.\n",
    "\n",
    "After parsing the segments and generating these two tables, we can use them to do entropy decoding, which is just using the Huffman tables to convert the raw image data. Afterwards, we use the Quantization tables to again convert the information. At this point, TODO: do the inverse cosine transform. Finally, since JPEG image data is stored under the YCbCr color space, we convert to RGB to get the final image.\n",
    "\n",
    "<img src=\"images/2.1.jpg\">\n",
    "\n",
    "\n",
    "Next, we will begin to write functions that perform each of the steps in this diagram."
   ]
  },
  {
   "cell_type": "markdown",
   "metadata": {},
   "source": [
    "### Section 3: Parsing Segments Part 1<a name=\"3\"></a>\n",
    "\n",
    "The general structure I will use to parse segments is defining a function for each of the segments we want to parse. These functions will take in the file we are reading as the argument `file`. An important Python function that will be repeatedly used is `read`. This function can read an entire file, or take in an integer representing the number of bytes to read and return from the given file object. So when we type `file.read(2)`, we read the next two bytes from the file and return that 2 byte value. Afterwards, I will always use my function previously defined, `hti`, to convert those bytes into an integer.\n",
    "\n",
    "For all segments, the data of that segment starts immediately after the segment marker. So as soon as our program reads `0xFFC0`, the marker for SOFO, we can call the function to parse SOFO, and any subsequent calls to read will be reading the bytes that are next in the file.\n",
    "\n",
    "##### Start of Frame Parsing\n",
    "\n",
    "As mentioned, the first segment we will write code to parse is the **start of frame** segment. According to the documentation, the first 2 bytes of a SOFO segment denote the length of the segment. That's easy enough to handle: we store that value into a variable called `length`. After that come the precision, height, width, and number of components. We store all of those in the same fashion.\n",
    "\n",
    "While pieces of information like width and height are simple to read, since they are of fixed length, other data is a little trickier. The first variable length information we will see is the `components` data within the SOFO segment. This is a list of image components, each containing 3 bytes:\n",
    "1. ID - Which part of the YCrCb color space this component holds\n",
    "2. Sampling Factor - This is used later on\n",
    "3. Quantization Table - The ID of the quantization table to be used\n",
    "\n",
    "This piece of information is variable length because there could be 1 component, or there could be 3, or some other value: we don't know for every image how many there will be. As such, we cannot hard-code calls to `read`. Instead, we will use the provided `length` value. Consider **Figure 3.1** below. The first yellow block denotes the 2 byte marker `0xFFC0`. All green blocks represent some piece of information we will read. The light green block is the block of variable length.\n",
    "<img src=\"images/3.1.jpg\">\n",
    "The first value in the segment is the `length`, which is a 2 byte value, so it makes up bytes 3 and 4. Let's assume that after reading those 2 bytes, we saw `length=17`. Following the documentation, byte 5 will be the data precision, bytes 6 and 7 are the height, 8 and 9 are the width, and byte 10 is the number of components. Let's say the number of components read was `3`.\n",
    "\n",
    "Since each component contains 3 bytes, we know that there will be `9` total bytes we need to read to get all 3 components. Furthermore, since the first 5 pieces of information took 8 bytes and the components took 9 bytes, that makes 17 bytes total. This matches the `length` value exactly.\n",
    "\n",
    "With that understanding out of the way, we can look at the function itself. As mentioned, we take in a reference to the file. The function then reads all of the fixed length variables and stores them. It loops over the the number of components, adding them to an array. Finally, it returns a dictionary that maps the names of the values to the data we got from that segment."
   ]
  },
  {
   "cell_type": "code",
   "execution_count": 48,
   "metadata": {},
   "outputs": [],
   "source": [
    "def parse_SOF0(file):\n",
    "    #length = 8 + (#components * 3)\n",
    "    length = hti(file.read(2))\n",
    "    #bits/sample\n",
    "    precision = hti(file.read(1))\n",
    "    height = hti(file.read(2))\n",
    "    width = hti(file.read(2))\n",
    "    #1 = grey scale, 3 = YCbCr, 4 = CMYK\n",
    "    num_components = hti(file.read(1))\n",
    "    components = []\n",
    "    for i in range(int((length - 8) / 3)):\n",
    "        #1 = Y, 2 = Cb, 3 = Cr, 4 = I, 5 = Q\n",
    "        component_id = hti(file.read(1))\n",
    "        sampling_factor = hti(file.read(1))\n",
    "        q_table = hti(file.read(1))\n",
    "        components.append({\n",
    "            \"id\": component_id,\n",
    "            \"sampling_factor\": sampling_factor,\n",
    "            \"q_table\": q_table\n",
    "        })\n",
    "    return {\n",
    "        \"length\": length,\n",
    "        \"precision\": precision,\n",
    "        \"height\": height,\n",
    "        \"width\": width,\n",
    "        \"num_components\": num_components,\n",
    "        \"components\": components\n",
    "    }"
   ]
  },
  {
   "cell_type": "markdown",
   "metadata": {},
   "source": [
    "Notice that there is some further information we can extract from these values. Since the number of components denotes how many color spaces we need to display the image, it is clear that if there is only 1, we are parsing a purely gray-scale image. If there are 3 components, then we are dealing with the common YCbCr system: more on this later."
   ]
  },
  {
   "cell_type": "markdown",
   "metadata": {},
   "source": [
    "##### Define Quantization Table Parsing\n",
    "\n",
    "The next segment we will tackle is the **DQT** segment. This segment contains the values for a quantization table which will later be used for decoding image data. These tables are basically 8x8 matrices of integers. As with the SOFO segment, the first piece of information is a length value, which is again 2 bytes. After the length, there is a single information byte for the quantization table. Last is the table itself, which contains `64` values if the precision is 0 (8 bit) and `128` values if the precision is 1 (16 bit). What's tricky here is that a segment may contain multiple quantization tables, each with a single information bit and a series of values. Thus, the only way to tell how many tables you have is to use the `length` value while parsing. Consider **Figure 4.2** below.\n",
    "<img src=\"images/3.2.jpg\">\n",
    "The yellow block denotes the segment marker `0xFFDB`. After that, we can see the 2 byte length value, bytes 3 and 4. Let's assume that this value was 132.\n",
    "After the length, we enter a light green block, which contains a quantization table. We first read byte 5, the information byte of a table. Afterwards, we read the 64 values for that table, bytes 6 through 69.\n",
    "At this point, from the tables alone we would not know if we had completed the segment. But since the total length was 132, and we had read 2 bytes for the length itself plus 65 bytes for the first table, there are `132 - 2 - 65 > 0` some number of bytes remaining. So we continue, assuming that there will be at least 1 more complete table to read. Again, reading 1 information bit, byte 70, and 64 values, bytes 71 through 134, giving us our second quantization table from this segment. At this point, `132` bytes have been read, so the segment is completed.\n",
    "\n",
    "We can see the function implementing this logic below. The loop `while pos > 0` is what continues reading in information until the number of bytes read matches `length`. After reading in the 64 values, we convert them into an 8x8 numpy array."
   ]
  },
  {
   "cell_type": "code",
   "execution_count": 49,
   "metadata": {},
   "outputs": [],
   "source": [
    "import numpy as np\n",
    "\n",
    "def parse_DQT(file):\n",
    "    #length = 6+2(number of components)\n",
    "    length = hti(file.read(2))\n",
    "    tables = []\n",
    "    pos = length-2\n",
    "    \n",
    "    while pos > 0:\n",
    "        qt = hti(file.read(1))\n",
    "        number = qt&0xF\n",
    "        precision = qt >> 4\n",
    "        table = {\n",
    "            \"id\": number,\n",
    "            \"precision\": precision\n",
    "        }\n",
    "        data = []\n",
    "        for i in range(64*(precision+1)):\n",
    "            data.append(hti(file.read(1)))\n",
    "        matrix = reverse_zigzag(np.array(data).reshape(8,8))\n",
    "        \n",
    "        table[\"matrix\"] = matrix\n",
    "        tables.append(table)\n",
    "        \n",
    "        pos-=(1 + (64*(1+precision)))\n",
    "        \n",
    "    return {\n",
    "        \"length\": length,\n",
    "        \"tables\": tables\n",
    "    }"
   ]
  },
  {
   "cell_type": "markdown",
   "metadata": {},
   "source": [
    "You will notice that the 64 values are not being directly used after being shaped into an 8x8 matrix. They are first being passed into a function `reverse_zigzag` which has not yet been defined. The subtlety here is that the 64 values are not stored in order. Rather, they are stored in a format that best suits FINSIH THIS. Thus, we must reverse this zig zag pattern using the function defined below."
   ]
  },
  {
   "cell_type": "code",
   "execution_count": 50,
   "metadata": {},
   "outputs": [],
   "source": [
    "def reverse_zigzag(m):\n",
    "    pos = (0, 0) #row, col\n",
    "    d = \"up\"\n",
    "    r = np.zeros((len(m), len(m)))\n",
    "    for n in m.flatten():\n",
    "        r[pos[0], pos[1]] = n        \n",
    "        if d == \"up\":\n",
    "            if pos[0] == 0: #going up, hit the top\n",
    "                d = \"down\"\n",
    "                if pos[1] == len(m)-1: #hit the top/right corner\n",
    "                    pos = (pos[0]+1, pos[1])\n",
    "                else: #hit the top when going up\n",
    "                    pos = (pos[0], pos[1]+1)\n",
    "            elif pos[1] == len(m)-1: #hit the right side when going up\n",
    "                d = \"down\"\n",
    "                pos = (pos[0]+1, pos[1])\n",
    "            else: #somewhere in middle\n",
    "                pos = (pos[0]-1, pos[1]+1)\n",
    "        else: #going down\n",
    "            if pos[0] == len(m)-1: #hit the bottom\n",
    "                d = \"up\"\n",
    "                if pos[0] == 0: #hit the bottom/left corner\n",
    "                    pos = (pos[0], pos[1]+1)\n",
    "                else: #hit bottom\n",
    "                    pos = (pos[0], pos[1]+1)\n",
    "            elif pos[1] == 0: #hit the left side\n",
    "                d = \"up\"\n",
    "                pos = (pos[0]+1, pos[1])\n",
    "            else: #somewhere in the middle\n",
    "                pos = (pos[0]+1, pos[1]-1)\n",
    "    return r"
   ]
  },
  {
   "cell_type": "markdown",
   "metadata": {},
   "source": [
    "## Section 4: Huffman Encoding<a name=\"4\"></a>\n",
    "\n",
    "The next segment to parse is the **DHT** segment, but first, we must understand what a Huffman table is. Unlike quantization tables, a Huffman table is not simply a matrix of integers. Instead, Huffman encoding is a method of assigning binary codes to symbols. For instance, if we wanted to encode `abc`, we could assign `a -> 0`, `b -> 1`, and `c -> 11`. This issue with this would be that the code `11` could signify `bb` or `c`. One approach to fixing this is to use **fixed length encoding**, where each code has the same number of bits, so we know that they are not going to be split up into other symbols. This might look like `a -> 00`, `b -> 01`, and `c -> 10`. However, notice that the number of bits in each code increases dramatically as the number of symbols increases. Furthermore, if we use the symbol `a` 1000 times, and the symbol `q` only once, why should they take up the same amount of space in the encoding? The goal of JPEG is to compress data, and this would definitely waste space.\n",
    "\n",
    "Huffman encoding instead uses **variable length encoding**, but solves that initial ambiguity issue by using **prefix free codes**. This means that no code is a prefix to another code, so whenever you see a code, you can be sure that no other code could build on top of it in later bits. We can envision this as a binary tree, with branches going left as `0` and right as `1`. The leaves of the tree are the symbols: nothing continues after the leaf, so all codes are prefix free. **Figure 4.1** shows the `abc` Huffman encoding from before.\n",
    "<img src=\"images/4.1.jpg\">\n",
    "Another important aspect of this encoding method is frequency. Since we have variable length encoding, we should aim to have the *most frequent* symbols have the *smallest code length*, as this will be the most efficient use of space. We don't need to worry about the algorithm that gives the most frequent symbols shorter codes, since the DHT segment provides all of the information needed to construct the table. The two key pieces of information are the **code lengths** and the **symbols**.\n",
    "\n",
    "Symbols are what we have already discussed: the value that the string of bits maps to. Instead of offering those bitstrings directly, which would be a large use of space for large tables, we are instead provided with the *number of codes* for each potential code length. The smallest code is of length `1`, and the largest is length `16`. So in the DHT segment, we are provided with an array of 16 values, each value telling us how many codes there are in the complete Huffman tree of that length. For example, the  array `[0, 0, 1, 1, 4, 5, 3, 0, 0, 0, 0, 0, 0, 0, 0, 0]` means that we have 1 code of length 3, 1 of length 4, 4 of length 5, and so on. Note that after length 7, there are no code. To avoid processing codes that are not going to be there, I will later defined `last non-zero`, which is just the index of the last non-zero value in this array.\n",
    "\n",
    "With that understanding in place, let's assume that we have already parsed the segment into the argument `table`. Then, we will generate a list of bitstrings based on the length array `table[\"lengths\"]`. We can see that the outer most loop goes through every length from 1 to the last non-zero index, skipping all those that are 0 in-between. Throughout the entire function, we maintain a variable `value`. Throughout each length, we just add 1 to value, and pad the left side with zeros such that it matches the length for that iteration. Once we have completed all of the values for that length value, we shift value by 1 bit to the left. This increases the size of value, giving us an extra 0 bit to start generating new codes from. We cannot start over from 0 in generating the new codes since this would result in some overlapping prefixes. By adding 1 then shifting by 1 bit, the upper `n-1` bits correspond to no other code."
   ]
  },
  {
   "cell_type": "code",
   "execution_count": 51,
   "metadata": {},
   "outputs": [],
   "source": [
    "def generate_bitstrings(table):\n",
    "    bitstrings = []\n",
    "    value = 0\n",
    "    for i in range(1,table[\"last non-zero\"]+2):\n",
    "        if table[\"lengths\"][i-1] == 0:\n",
    "            continue\n",
    "        for code in range(table[\"lengths\"][i-1]):\n",
    "            bitstring = \"{0:b}\".format(value)\n",
    "            bitstring = (i - len(bitstring))*\"0\" + bitstring\n",
    "            bitstrings.append(bitstring)\n",
    "            value+=1\n",
    "        value <<= 1\n",
    "    return bitstrings"
   ]
  },
  {
   "cell_type": "markdown",
   "metadata": {},
   "source": [
    "Let's test if this function is working correctly by mocking a DHT `table` variable. We will make a random lengths array, and create a random symbols array to have a matching number of values. We should see a list printed of `7` 3 bit code corresponding to the first 7 symbols in the symbols array, then 1 code of length 4, 1 of length 5, and so on."
   ]
  },
  {
   "cell_type": "code",
   "execution_count": 52,
   "metadata": {},
   "outputs": [
    {
     "name": "stdout",
     "output_type": "stream",
     "text": [
      "('000', 1)\n",
      "('001', 2)\n",
      "('010', 3)\n",
      "('011', 4)\n",
      "('100', 5)\n",
      "('101', 6)\n",
      "('110', 12)\n",
      "('1110', 11)\n",
      "('11110', 10)\n",
      "('111110', 9)\n",
      "('1111110', 8)\n",
      "('11111110', 7)\n"
     ]
    }
   ],
   "source": [
    "table = {\n",
    "    \"last non-zero\": 8,\n",
    "    \"lengths\": [0, 0, 7, 1, 1, 1, 1, 1, 0, 0, 0, 0, 0, 0, 0, 0],\n",
    "    \"symbols\": [1, 2, 3, 4, 5, 6, 12, 11, 10, 9, 8, 7]\n",
    "}\n",
    "\n",
    "bitstrings = generate_bitstrings(table)\n",
    "for pair in zip(bitstrings, table[\"symbols\"]):\n",
    "    print(pair)"
   ]
  },
  {
   "cell_type": "markdown",
   "metadata": {},
   "source": [
    "One down side of this approach is that we have no direct ability to express negative values. Since we are using quantization tables and IDC tranform, negative values are a must. To express negatives, the symbols of a JPEG Huffman table are not meant to be directly expressed as image data values, but are the arguments to yet another table. For this conversion, we consider both the symbol and the length of the code. The length denotes how far from zero, in powers of 2, our new value will begin.\n",
    "\n",
    "Let the absolute value of the lower bound be `2^(size-1)`. Thus, for `size = 3`, we can have values above `4` and below `-4`. The absolute value of the upper bound is then `2^(size)-1`. Again, for `size = 3`, we can have values below `7` and above `-7`. With this pattern, for any size, the number of possible positive values is `2^(size)-1 - 2^(size-1)`. Rearranging the algebra here should that the number of positive values is `X`, which means the total number of values, counting negatives, is `2X = Y`. Then, the lower half of the potential code values are all negative, while the upper half are positive.\n",
    "IMAGE\n",
    "\n",
    "We defined the function to compute the signed version based on a code and size below. Then, we test it for all codes of length `4` to see if the proper distribution is returned. For length `4`, the smallest negative should be `-(2^4-1) = -15`, and the largest negative should be `-2^(4-1) = -8`."
   ]
  },
  {
   "cell_type": "code",
   "execution_count": 53,
   "metadata": {},
   "outputs": [
    {
     "name": "stdout",
     "output_type": "stream",
     "text": [
      "0 -15\n",
      "1 -14\n",
      "2 -13\n",
      "3 -12\n",
      "4 -11\n",
      "5 -10\n",
      "6 -9\n",
      "7 -8\n",
      "8 8\n",
      "9 9\n",
      "10 10\n",
      "11 11\n",
      "12 12\n",
      "13 13\n",
      "14 14\n",
      "15 15\n"
     ]
    }
   ],
   "source": [
    "def signed_dc(dc, size):\n",
    "    if size == 0:\n",
    "        return 0\n",
    "    lo = 2**(size-1)\n",
    "    hi = lo*2-1\n",
    "    mid = 2**size/2\n",
    "    if dc < mid:\n",
    "        d = mid - dc\n",
    "        return int(-(lo + d - 1))\n",
    "    else:\n",
    "        d = dc - mid\n",
    "        return int(lo + d)\n",
    "    \n",
    "for i in range(16):\n",
    "    print(i, signed_dc(i, 4))"
   ]
  },
  {
   "cell_type": "markdown",
   "metadata": {},
   "source": [
    "The last piece of preparation for the Huffman segment is actually reading the table from the file. You'll notice that previously, we have been reading byte by byte, but the Huffman codes are not sectioned by byte, but byte bit. We need to read each `0` or `1` individually. Since Python's `read` function can only read bytes, we defined a custom function `read_bit`. Basically, we will read in a byte, but return a single bit of that byte each time the function is called, storing the remaining bits in `bit_buffer`. When the buffer is empty, we read in another byte to fill it with 8 new bits.\n",
    "We need to read bit strings byte by byte.\n",
    "\n",
    "An important note is that the JPEG specification allows for markers to appear within the data that we will be reading. We know that markers preceeded by `0xFF` and then followed by some non-zero byte. But what if the image data actually contains `0xFFD8`, and does not intend to indicate a SOI marker? This is were **byte stuffing** is used. Instead of putting `0xFFD8` into the file to be confused with a marker, a zero byte is added, making it `0xFF00D8` instead. This no longer matches the pattern of a marker, so we know it is not. However, that zero byte did not represent image data, it was just inserted for formatting purposes, so we should not read it when we are working with our Huffman codes and such. Thus, this read_bit function also makes sure that if it reads `0xFF00`, it consumes that `00` byte, and replaces it with the next byte. This makes it such that we can call `read_bit` and not worry about the byte stuffing later on."
   ]
  },
  {
   "cell_type": "code",
   "execution_count": 25,
   "metadata": {},
   "outputs": [],
   "source": [
    "bit_buffer = \"\"\n",
    "prev_byte = None\n",
    "def read_bit(file):\n",
    "    global bit_buffer\n",
    "    global prev_byte\n",
    "    if bit_buffer == \"\":\n",
    "        byte = file.read(1)\n",
    "        if prev_byte == b'\\xff' and byte == b'\\x00':\n",
    "            byte = file.read(1)\n",
    "        prev_byte = byte\n",
    "        bit_buffer = str(bin(hti(byte)))[2:]\n",
    "        if len(bit_buffer) < 8:\n",
    "            bit_buffer = \"0\"*(8 - len(bit_buffer)) + bit_buffer\n",
    "    bit = int(bit_buffer[:1])\n",
    "    bit_buffer = bit_buffer[1:]\n",
    "    return bit"
   ]
  },
  {
   "cell_type": "markdown",
   "metadata": {},
   "source": [
    "## Section 5: Parsing Segments Part 2<a name=\"5\"></a>\n",
    "\n",
    "##### Define Huffman Table Parsing\n",
    "\n",
    "With all that logic in place, we can read the DHT segment. The format of this segment follows the usual pattern, starting with a 2 byte length value. After that, there are some unknown number of Huffman tables. Each has an information bit, which we use to identify the table and describe it, followed by 16 values for the lengths list, and then the actual list of symbols.\n",
    "After reading each table, we use the bitstring function generate the list of codes, and then create a map that connects eaech code to the symbol it represents."
   ]
  },
  {
   "cell_type": "code",
   "execution_count": 47,
   "metadata": {},
   "outputs": [],
   "source": [
    "def parse_DHT(file):\n",
    "    length = hti(file.read(2))\n",
    "    pos = length\n",
    "    count = 0\n",
    "    tables = []\n",
    "\n",
    "    while pos > 0 and count < 4:\n",
    "        count+=1\n",
    "        ht_info = hti(file.read(1))\n",
    "        pos-=1\n",
    "        number = ht_info&0xF\n",
    "        ht_type = ht_info >> 4\n",
    "        \n",
    "        table = {\"id\": number, \"type\": ht_type}\n",
    "        \n",
    "        lengths = []\n",
    "        last = None\n",
    "        for i in range(16):\n",
    "            l = hti(file.read(1))\n",
    "            lengths.append(l)\n",
    "            if l != 0:\n",
    "                last = i\n",
    "        table[\"lengths\"] = lengths\n",
    "        table[\"last non-zero\"] = last\n",
    "        pos-=16\n",
    "                \n",
    "        symbols = []\n",
    "        for i in range(16):\n",
    "            if lengths[i] > 0:\n",
    "                for j in range(lengths[i]):\n",
    "                    symbols.append(hti(file.read(1)))\n",
    "                    pos-=1\n",
    "        table[\"symbols\"] = symbols\n",
    "        tables.append(table)\n",
    "        \n",
    "    maps = {}\n",
    "    for table in tables:\n",
    "        if table[\"id\"] not in maps.keys():\n",
    "            maps[table[\"id\"]] = {}\n",
    "        maps[table[\"id\"]][\"DC\" if table[\"type\"]==0 else \"AC\"] = dict(zip(generate_bitstrings(table), table[\"symbols\"]))\n",
    "\n",
    "    return { \"length\": length, \"tables\": tables, \"maps\": maps }"
   ]
  },
  {
   "cell_type": "markdown",
   "metadata": {},
   "source": [
    "##### Start of Scan Parsing\n",
    "\n",
    "This final segment is relatively simple. We first read in the usual 2 byte length. Then, we read in the number of components. These roughly correspond to the channels of the image. For each channel, we read in 2 bytes. The first corresponds to the id of that component, and the second byte uses the upper 4 bits to denote which Huffman table we should use for the DC values, and the lower 4 bits to denote with Huffman table we should use for the AC values. After getting this information for each component, the specification says we must read and throw away `3` bits. This is presumably so that the next data starts on an even byte boundary. Immediately after the SOS segment is the scan data, the section where all of the image information is actually stored, and our Huffman tables will begin to be useful."
   ]
  },
  {
   "cell_type": "code",
   "execution_count": 27,
   "metadata": {},
   "outputs": [],
   "source": [
    "def parse_SOS(file):\n",
    "    #length = 6+2*(number of components)\n",
    "    length = hti(file.read(2))\n",
    "    number_components = hti(file.read(1))\n",
    "    components = []\n",
    "    for i in range(number_components):\n",
    "        cid = hti(file.read(1))\n",
    "        table = hti(file.read(1))\n",
    "        components.append({\n",
    "            \"id\": cid,\n",
    "            \"AC\": table&0xF,\n",
    "            \"DC\": table>>4\n",
    "        })\n",
    "    file.read(3)\n",
    "    \n",
    "    return {\n",
    "        \"length\": length,\n",
    "        \"number of components\": number_components,\n",
    "        \"components\": components\n",
    "    }    "
   ]
  },
  {
   "cell_type": "markdown",
   "metadata": {},
   "source": [
    "## Section 6: Scan Data<a name=\"6\"></a>\n",
    "\n",
    "order is y cb cr\n",
    "\n",
    "For the DC value, you have to read in bits to get the huffman code. this value however is not the actual value, but the number of bits to read in. so if the huff table says the value is 6, you read in 6 more bits to get the DC value. for the AC components, you just read them straight from the table. for both, if an EOB/zero value is found, you just assume 0 for the rest of that section.\n",
    "\n",
    "### ZRL Purpose\n",
    "    avoid listing out a bunch of zeros. instead, write the number of zeros and then the bits that come after\n",
    "    \n",
    "\"ZRL is \"zero run length\" -- it represents the number of zero coefficients before the next non-zero value. This is an easy means of compressing the coefficients in the DCT matrix since it is common to have zeros in some areas (eg. high frequency coefficients).\"\n",
    "\n",
    "the AC values are considered to have 2 parts, an upper and lower 8 bits. the upper 8 is the zrl, zero run length, the number of zeros until the next ac coefficient. the lower 8 are the actual value. \n",
    "\n",
    "after matching in the huffman table, how many bits do you read, and what are they for?\n",
    "\n",
    "0x13 is \"1 zero leading 3 bit number\"\n",
    "\n",
    "Example 1: `01 01 0100`. The table matches `01` as 02, so you read 2 more bits: `01`. Thus, the value is 1 for size 2, which maps to -1. No zero run length byte.\n",
    "\n",
    "Example 2: `1010 0`. `1010` matches `0x11`. this means 1 zero and a leading bit of 1. for the signed lookup, this is size=1 and value=0 which returns -1. [-1]\n",
    "\n",
    "Example 3: `11111000 10`. `11111000` matches `0x22`. zrl = 2, bit length = 2. value = 2. signed value = . [2]\n",
    "\n",
    "\n",
    "Example 4: `11100 01`. `11100` matches `0x12`. zrl=1, length = 2. value = 1, signed value = -2. [-2]"
   ]
  },
  {
   "cell_type": "code",
   "execution_count": 28,
   "metadata": {},
   "outputs": [],
   "source": [
    "def read_image_data(file):\n",
    "    mcus = []\n",
    "    #loop over all MCUs\n",
    "    #potentially make this a while(true), and then break when not enough information is found\n",
    "    for current_mcu in range(1):\n",
    "        #loop over the color components for each mcu\n",
    "        mcu = []\n",
    "        for component in data[\"SOS\"][0][\"components\"]:\n",
    "            print(\"MCU {}, component {}\".format(current_mcu, component))\n",
    "            dc_map = data[\"DHT\"][0][\"maps\"][component[\"DC\"]][\"DC\"]\n",
    "            ac_map = data[\"DHT\"][0][\"maps\"][component[\"AC\"]][\"AC\"]\n",
    "\n",
    "            #number of bits for DC value\n",
    "            bit_string = str(read_bit(file))\n",
    "            while bit_string not in dc_map:\n",
    "                bit_string += str(read_bit(file))\n",
    "            bits = dc_map[bit_string]\n",
    "            \n",
    "            #1 DC value\n",
    "            bit_string = \"\"\n",
    "            for i in range(bits):\n",
    "                bit_string+=str(read_bit(file))\n",
    "            \n",
    "            if bit_string == \"\":\n",
    "                bit_string = \"0\"\n",
    "            \n",
    "            dc = signed_dc(int(bit_string, 2), bits)\n",
    "            dct = [dc]\n",
    "\n",
    "            #63 AC values\n",
    "            while len(dct) < 64:\n",
    "                \n",
    "                #get length for next AC value\n",
    "                bit_string = str(read_bit(file))\n",
    "                while bit_string not in ac_map:\n",
    "                    bit_string += str(read_bit(file))\n",
    "                bits = ac_map[bit_string]\n",
    "                \n",
    "                zrl = bits >> 4;\n",
    "                bits = bits & 0xF\n",
    "                \n",
    "                #0 code corresponds to EOB, end of block.\n",
    "                if bits == 0:\n",
    "                    break\n",
    "                    \n",
    "                #get the bits for the ac value\n",
    "                bit_string = \"\"\n",
    "                for i in range(bits):\n",
    "                    bit_string+=str(read_bit(file))\n",
    "                    \n",
    "                #convert to signed ac value\n",
    "                ac = signed_dc(int(bit_string, 2), bits)\n",
    "                \n",
    "                if zrl > 0:\n",
    "                    #print(\"i={} bits={}, ac={}, zrl={}\".format(i, bits, ac, zrl))\n",
    "                    for _ in range(zrl):\n",
    "                        dct.append(0)\n",
    "                \n",
    "                dct.append(ac)\n",
    "                                \n",
    "                bit_string = \"\"\n",
    "\n",
    "            #fill in remaining spots with 0\n",
    "            if len(dct) < 64:\n",
    "                dct = dct + (64-len(dct))*[0]\n",
    "                \n",
    "            dct = np.array(dct)\n",
    "            dct = dct.reshape(8,8)\n",
    "            mcu.append(dct)\n",
    "            \n",
    "        mcus.append(mcu)\n",
    "        \n",
    "    return mcus"
   ]
  },
  {
   "cell_type": "markdown",
   "metadata": {},
   "source": [
    "Finally, we can use the all of the functions we have written on the actual image. First, we create the function `next_segment`, which will read byte by byte until a segment is found. We then create a dict `data`, which will be a simple way to dump the information we parse from the important segments. The main loop will loop through the image, calling each of our segment parsing functions when those segments are detected. Once the SOS segment is found and parsed, we call `read_image_data` to do reading of the scan data. We assign the output of the function to `mcus`, which will be used later to process the image."
   ]
  },
  {
   "cell_type": "code",
   "execution_count": 58,
   "metadata": {
    "scrolled": false
   },
   "outputs": [
    {
     "name": "stdout",
     "output_type": "stream",
     "text": [
      "MCU 0, component {'id': 1, 'AC': 0, 'DC': 0}\n",
      "MCU 0, component {'id': 2, 'AC': 1, 'DC': 1}\n",
      "MCU 0, component {'id': 3, 'AC': 1, 'DC': 1}\n"
     ]
    }
   ],
   "source": [
    "def next_segment(file):    \n",
    "    b1 = file.read(1)\n",
    "    b2 = file.read(1)\n",
    "    while hti(b1+b2) not in markers.keys():\n",
    "        b1 = b2\n",
    "        b2 = file.read(1)\n",
    "    m = hti(b1+b2)\n",
    "    return markers[m]\n",
    "\n",
    "file = open(image_filename, \"rb\")\n",
    "data = {\n",
    "    \"SOF0\": [],\n",
    "    \"DHT\": [],\n",
    "    \"DQT\": [],\n",
    "    \"SOS\": []\n",
    "}\n",
    "\n",
    "while True:\n",
    "    segment = next_segment(file)\n",
    "    if segment == \"SOF0\":\n",
    "        data[segment].append(parse_SOF0(file))\n",
    "    elif segment == \"DHT\":\n",
    "        data[segment].append(parse_DHT(file))\n",
    "    elif segment == \"DQT\":\n",
    "        data[segment].append(parse_DQT(file))\n",
    "    elif segment == \"SOS\":\n",
    "        data[segment].append(parse_SOS(file))\n",
    "        mcus = read_image_data(file)\n",
    "        break\n",
    "file.close()"
   ]
  },
  {
   "cell_type": "markdown",
   "metadata": {},
   "source": [
    "Since we have to process each MCU in the same way, it makes sense to wrap that logic up in a function. Referring to the flow chart in Figure 2.1, each MCU must first go through quantization, where we do an element-wise multiplication with the DCT matrix and its corresponding Quantization table. Afterwards, we perform an Inverse Discrete Cosine Transform, using the `idctn` function from SciPy. We then round all of the values to get even integers. Afterwards, we center the values back to their normal ranges by adding 128, and finally clip the values to the range `[0, 255]`, just in case any of the math produced values outside a valid color range."
   ]
  },
  {
   "cell_type": "code",
   "execution_count": 37,
   "metadata": {},
   "outputs": [],
   "source": [
    "from scipy.fftpack import idctn\n",
    "def build_mcu(dct, qt):\n",
    "    q = data[\"DQT\"][0][\"tables\"][qt][\"matrix\"]\n",
    "    m = np.multiply(dct, q)\n",
    "    m = idctn(m, norm=\"ortho\")\n",
    "    m = np.round(m)\n",
    "    m += 128\n",
    "    m = m.clip(0, 255)\n",
    "    return m"
   ]
  },
  {
   "cell_type": "markdown",
   "metadata": {},
   "source": [
    "After building the corrected MCUs, we will convert them from the YCbCr color space to simple RGB. This is simply done by applying a formula."
   ]
  },
  {
   "cell_type": "code",
   "execution_count": 38,
   "metadata": {},
   "outputs": [],
   "source": [
    "def ycbcr_to_rgb(c):\n",
    "    y, cb, cr = c\n",
    "    r = y+1.402*(cr-128)\n",
    "    g = y-0.344136*(cb-128)-0.714136*(cr-128)\n",
    "    b = y+1.772*(cb-128)\n",
    "    return r, g, b"
   ]
  },
  {
   "cell_type": "markdown",
   "metadata": {},
   "source": [
    "At last, we can display the results of our efforts. Looping over the MCUs, just one in this case, and the looping over each of the color channels, we can generate."
   ]
  },
  {
   "cell_type": "code",
   "execution_count": 59,
   "metadata": {},
   "outputs": [
    {
     "data": {
      "text/plain": [
       "<matplotlib.image.AxesImage at 0x20452cb77f0>"
      ]
     },
     "execution_count": 59,
     "metadata": {},
     "output_type": "execute_result"
    },
    {
     "data": {
      "image/png": "[encoded data removed]",
      "text/plain": [
       "<Figure size 432x288 with 1 Axes>"
      ]
     },
     "metadata": {
      "needs_background": "light"
     },
     "output_type": "display_data"
    }
   ],
   "source": [
    "img = []\n",
    "for mcu in mcus:\n",
    "    qt = 0\n",
    "    c = []\n",
    "    for channel in mcu:\n",
    "        corrected = reverse_zigzag(channel)\n",
    "        corrected = build_mcu(corrected, qt)\n",
    "        c.append(corrected)\n",
    "        qt = 1\n",
    "    z = np.array([a for a in zip(c[0].flatten(), c[1].flatten(), c[2].flatten())])\n",
    "    k = [ycbcr_to_rgb(a) for a in z]\n",
    "    k = np.array(k).reshape(8, 8, 3) / 255\n",
    "    z = np.array(z).reshape(8, 8, 3) / 255\n",
    "    if len(img) == 0:\n",
    "        img = k\n",
    "        img_ycbcr = z\n",
    "    else:\n",
    "        img = np.concatenate((img, k), axis=1)\n",
    "    img = img.clip(0, 1)\n",
    "    image = img\n",
    "plt.imshow(img)"
   ]
  },
  {
   "cell_type": "markdown",
   "metadata": {},
   "source": [
    "#### Evaluation\n",
    "\n",
    "This decoding may seem accurate, but it is important to consider exactly how accurate. We can use a standard library such as PIL to automatically generate the RGB information for comparison, assuming the library does the decoding correctly. We can then take the difference between each red, green, and blue value for each pixel, sum up the differences, and divide by the total number of pixels/channel to get the average error per pixel per color channel. The range for this error is `[0, 255]`, with `0` indicating a perfect match and `255` indicating that the correct image was all black and our decoding was all white.\n",
    "\n",
    "After getting the average error, we can plot the difference in pixel values as a new image, to see which pixels were more incorrect than others, with brighter pixels indicating a higher error."
   ]
  },
  {
   "cell_type": "code",
   "execution_count": 40,
   "metadata": {
    "scrolled": true
   },
   "outputs": [
    {
     "name": "stdout",
     "output_type": "stream",
     "text": [
      "Average Error Per Pixel = 0.049021541666666724\n"
     ]
    },
    {
     "data": {
      "text/plain": [
       "<matplotlib.image.AxesImage at 0x20452e95a20>"
      ]
     },
     "execution_count": 40,
     "metadata": {},
     "output_type": "execute_result"
    },
    {
     "data": {
      "image/png": "[encoded data removed]",
      "text/plain": [
       "<Figure size 432x288 with 1 Axes>"
      ]
     },
     "metadata": {
      "needs_background": "light"
     },
     "output_type": "display_data"
    }
   ],
   "source": [
    "from PIL import Image\n",
    "i = Image.open(image_filename, 'r')\n",
    "data = i.getdata()\n",
    "rgb = np.array(list(data)).reshape(8, 8, 3)\n",
    "diff = rgb - (image*255)\n",
    "avg_error = abs(diff.sum() / (8*8*3))\n",
    "print(\"Average Error Per Pixel = {}\".format(avg_error))\n",
    "diff = diff.reshape(64, 3)\n",
    "diff = np.array([x.sum() for x in diff]).reshape(8, 8)\n",
    "plt.imshow(diff)"
   ]
  },
  {
   "cell_type": "markdown",
   "metadata": {},
   "source": [
    "## Section 7: Notes<a name=\"7\"></a>\n"
   ]
  },
  {
   "cell_type": "markdown",
   "metadata": {},
   "source": [
    "But what about sub-sampling?"
   ]
  }
 ],
 "metadata": {
  "kernelspec": {
   "display_name": "Python 3",
   "language": "python",
   "name": "python3"
  },
  "language_info": {
   "codemirror_mode": {
    "name": "ipython",
    "version": 3
   },
   "file_extension": ".py",
   "mimetype": "text/x-python",
   "name": "python",
   "nbconvert_exporter": "python",
   "pygments_lexer": "ipython3",
   "version": "3.7.3"
  }
 },
 "nbformat": 4,
 "nbformat_minor": 2
}
