{
 "cells": [
  {
   "cell_type": "markdown",
   "metadata": {},
   "source": [
    "# JPEG Analysis\n",
    "## An in-depth look at the JPEG File Interchange Format with Python3\n",
    "#### Skyler Rankin 2019\n",
    "##### *Version 0.1*"
   ]
  },
  {
   "cell_type": "markdown",
   "metadata": {},
   "source": [
    "### Introduction\n",
    "This notebook attempts to explore the mechanisms at play behind one of the most widely used image file formats. In short, by parsing the file byte by byte, and using a specification reference, we can interpret all of the information stored in the file, and even generate the corresponding image without a pre-built image viewer. The primary reference used will be the report given by Ecma-Internation found [here](https://www.ecma-international.org/publications/files/ECMA-TR/ECMA%20TR-098.pdf).\n",
    "\n",
    "### Table of Contents\n",
    "#### [Section 1](#1) | Importing an Image\n",
    "#### [Section 2](#2) | Basic JPEG Structure\n",
    "#### [Section 3](#3) | Parsing Segments: Part 1\n",
    "#### [Section 4](#4) | Huffman Encoding\n"
   ]
  },
  {
   "cell_type": "markdown",
   "metadata": {},
   "source": [
    "### Section 1: Importing an Image<a name=\"1\"></a>\n",
    "First, we must select an image to work with. I have included a small default image with this repository for testing, but feel free to add your own by adding the file to the project root and changing the filename in the code below."
   ]
  },
  {
   "cell_type": "code",
   "execution_count": 1,
   "metadata": {},
   "outputs": [
    {
     "data": {
      "image/jpeg": "[encoded data removed]",
      "text/plain": [
       "<IPython.core.display.Image object>"
      ]
     },
     "execution_count": 1,
     "metadata": {
      "image/jpeg": {
       "width": 200
      }
     },
     "output_type": "execute_result"
    }
   ],
   "source": [
    "from IPython.display import Image\n",
    "image_filename = \"symmetrical.jpg\"\n",
    "Image(\"symmetrical.jpg\", width=200)"
   ]
  },
  {
   "cell_type": "markdown",
   "metadata": {},
   "source": [
    "### Section 2: Basic JPEG Structure<a name=\"2\"></a>\n",
    "The structure of a JPEG file relies upon a system of **markers**. These are specific 2-byte sequences that are reserved for a specific purpose, so that when you see one in the file, you can be sure of its meaning. For convenience, I will represent these byte sequences as hex values preceeded by `0x`, meaning the decimal number `78` is represented as `1001110` as binary in the image file, but is written as `0x4E` in hex for our purposes. In the JPEG File Format, all markers are preceeded by `0xFF`, which makes the marker two bytes in total.\n",
    "The first markers to look for are the **SOI** and **EOI** markers. These signify **start of image** and **end of image** respectively.\n",
    "\n",
    "Marker | Value\n",
    "--- | --- \n",
    "SOI | 0xFFD8\n",
    "EOI | 0xFFD9\n",
    "\n",
    "We can be sure that no important information for the image will come before the `SOI` marker, and no information will come after the `EOI`. The information between these markers can be referred to as a segment. A common idea for structuring segments is using a **header**. A header is a small sequence of bytes at the beginning of a segment that describe what that segment contains. The specifics for the headers are dependent on the marker type, but we will see many of these headers as we parse the image file. An example of this is the `SOF0` marker, which denotes the **start of frame 0**. This segment uses the marker `0xC0` and contains information regarding the image data. The specifics of extracting information from headers will come in the next section.\n",
    "\n",
    "Before we can parse these headers and segments, it helps to define a function to convert the bytes read from the file as Python `byte` objects into pure integers. This makes storing and manipulating their values simpler later on. The following function `hti`, \"Hex To Integer\", does just that: takes in a byte and returns the integer representation."
   ]
  },
  {
   "cell_type": "code",
   "execution_count": 2,
   "metadata": {},
   "outputs": [
    {
     "name": "stdout",
     "output_type": "stream",
     "text": [
      "Hex value 0xD8 converted with function:  216\n",
      "Actual integer value:  216\n"
     ]
    }
   ],
   "source": [
    "def hti(h):\n",
    "    return int.from_bytes(h, byteorder='big')\n",
    "\n",
    "print(\"Hex value 0xD8 converted with function: \",hti(b'\\xD8'))\n",
    "print(\"Actual integer value: \",16*13+8)"
   ]
  },
  {
   "cell_type": "code",
   "execution_count": 3,
   "metadata": {},
   "outputs": [],
   "source": [
    "markers = {\n",
    "        0xFFD8: \"SOI\",\n",
    "        0xFFE0: \"APP0\",\n",
    "        0xFFC0: \"SOF0\",\n",
    "        0xFFC4: \"DHT\",\n",
    "        0xFFDB: \"DQT\",\n",
    "        0xFFDA: \"SOS\",\n",
    "        0xFFD9: \"EOI\",\n",
    "    }\n",
    "for i in range(17):\n",
    "    markers[(0xFFE0+i)] = \"APP{}\".format(i)"
   ]
  },
  {
   "cell_type": "code",
   "execution_count": 70,
   "metadata": {},
   "outputs": [
    {
     "data": {
      "image/png": "[encoded data removed]",
      "text/plain": [
       "<Figure size 1080x216 with 1 Axes>"
      ]
     },
     "metadata": {
      "needs_background": "light"
     },
     "output_type": "display_data"
    }
   ],
   "source": [
    "import matplotlib.pyplot as plt\n",
    "import pandas as pd\n",
    "import numpy as np\n",
    "\n",
    "file = open(image_filename, \"rb\")\n",
    "segments = [[],[]]\n",
    "s = 0\n",
    "for i in range(10):\n",
    "    byte = (file.read(1), file.read(1))\n",
    "    s+=2\n",
    "    while hti(byte[0]+byte[1]) not in markers.keys():\n",
    "        byte = (byte[1], file.read(1))\n",
    "        s+=1\n",
    "    segments[0].append(byte[0]+byte[1])\n",
    "    if len(segments[0]) > 1 and len(segments[1]) > 0:\n",
    "        segments[1].append(s-2-segments[1][-1])\n",
    "    elif len(segments[0]) > 1:\n",
    "        segments[1].append(s-2)\n",
    "    if hti(byte[0]+byte[1]) == 65497:\n",
    "        break\n",
    "segments[1].append(2)\n",
    "\n",
    "df = pd.DataFrame([segments[1]], columns=[markers[hti(x)] for x in segments[0]])\n",
    "df.plot.barh(stacked=True, figsize=(15, 3))\n",
    "plt.legend(loc='center left', bbox_to_anchor=(1.0, 0.5), fontsize=\"large\")\n",
    "plt.xlabel(\"Byte\")\n",
    "file.close()"
   ]
  },
  {
   "cell_type": "markdown",
   "metadata": {},
   "source": [
    "### Section 3: Parsing Segments Part 1<a name=\"3\"></a>\n",
    "\n",
    "The general structure I will use to parse segments is defining a function for each of the segments we want to parse. These functions will take in the file we are reading as the argument `file`. An important function that will be repeatedly used is `read`. This function takes in an integer representing the number of bytes to read and return from the given file object. So when we type `file.read(2)`, we read the next two bytes from the file and return that 2 byte value. Afterwards, I will always use my function previously defined, `hti`, to convert those bytes into an integer.\n",
    "\n",
    "For all segments, the data of that segment starts immediately after the segment marker. So as soon as our program reads `0xFFC0`, the marker for SOFO, we can call the function to parse SOFO, and any subsequent calls to read will be reading the bytes that are next in the file.\n",
    "\n",
    "##### Start of Frame Parsing\n",
    "\n",
    "As mentioned, the first segment we will write code to parse is the **start of frame** segment. According to the documentation, the first 2 bytes of a SOFO segment denote the length of the segment. That's easy enough to handle: we store that value into a variable called `length`, as seen on line `3`. After that come the precision, height, width, and number of components. We store all of those in the same fashion.\n",
    "\n",
    "While pieces of information like width and height are simple to read, since they are of fixed length, other data is a little trickier. The first variable length information we will see is the `components` data within the SOFO segment. This is a list of image components, each containing 3 bytes:\n",
    "1. ID - Which part of the YCrCb color space this component holds\n",
    "2. Sampling Factor - This is used later on\n",
    "3. Quantization Table - The ID of the quantization table to be used\n",
    "\n",
    "This piece of information is variable length because there could be 1 component, or there could be 3, or some other value: we don't know for every image how many there will be. As such, we cannot hard-code calls to `read`. Instead, we will use the provided `length` value. Consider **Figure 3.1** below. The first yellow block denotes the 2 byte marker `0xFFC0`. All green blocks represent some piece of information we will read. The light green block is the block of variable length.\n",
    "<img src=\"images/4.1.jpg\">\n",
    "The first value in the segment is the `length`, which is a 2 byte value, so it makes up bytes 3 and 4. Let's assume that after reading those 2 bytes, we saw `length=17`. Following the documentation, byte 5 will be the data precision, bytes 6 and 7 are the height, 8 and 9 are the width, and byte 10 is the number of components. Let's say the number of components read was `3`.\n",
    "\n",
    "Since each component contains 3 bytes, we know that there will be `9` total bytes we need to read to get all 3 components. Furthermore, since the first 5 pieces of information took 8 bytes and the components took 9 bytes, that makes 17 bytes total. This matches the `length` value exactly.\n",
    "\n",
    "With that understanding out of the way, we can look at the function itself. As mentioned, we take in a reference to the file. The function then reads all of the fixed length variables and stores them. It loops over the the number of components, adding them to an array. Finally, it returns a dictionary that maps the names of the values to the data we got from that segment."
   ]
  },
  {
   "cell_type": "code",
   "execution_count": 5,
   "metadata": {},
   "outputs": [],
   "source": [
    "def parse_SOF0(file):\n",
    "    #length = 8 + (#components * 3)\n",
    "    length = hti(file.read(2))\n",
    "    #bits/sample\n",
    "    precision = hti(file.read(1))\n",
    "    height = hti(file.read(2))\n",
    "    width = hti(file.read(2))\n",
    "    #1 = grey scale, 3 = YCbCr, 4 = CMYK\n",
    "    num_components = hti(file.read(1))\n",
    "    components = []\n",
    "    for i in range(int((length - 8) / 3)):\n",
    "        #1 = Y, 2 = Cb, 3 = Cr, 4 = I, 5 = Q\n",
    "        component_id = hti(file.read(1))\n",
    "        sampling_factor = hti(file.read(1))\n",
    "        q_table = hti(file.read(1))\n",
    "        components.append({\n",
    "            \"id\": component_id,\n",
    "            \"sampling_factor\": sampling_factor,\n",
    "            \"q_table\": q_table\n",
    "        })\n",
    "    return {\n",
    "        \"length\": length,\n",
    "        \"precision\": precision,\n",
    "        \"height\": height,\n",
    "        \"width\": width,\n",
    "        \"num_components\": num_components,\n",
    "        \"components\": components\n",
    "    }"
   ]
  },
  {
   "cell_type": "markdown",
   "metadata": {},
   "source": [
    "Notice that there is some further information we can extract from these values. Since the number of components denotes how many color spaces we need to display the image, it is clear that if there is only 1, we are parsing a purely gray-scale image. If there are 3 components, then we are dealing with the common YCbCr system: more on this later."
   ]
  },
  {
   "cell_type": "markdown",
   "metadata": {},
   "source": [
    "##### Define Quantization Table Parsing\n",
    "\n",
    "The next segment we will tackle is the **DQT** segment. This segment contains the values for a quantization table which will later be used for decoding image data. These tables are basically 8x8 matrices of integers. As with the SOFO segment, the first piece of information is a length value, which is again 2 bytes. After the length, there is a single information byte for the quantization table. Last is the table itself, which contains `64` values if the precision is 0 (8 bit) and `128` values if the precision is 1 (16 bit). What's tricky here is that a segment may contain multiple quantization tables, each with a single information bit and a series of values. Thus, the only way to tell how many tables you have is to use the `length` value while parsing. Consider **Figure 4.2** below.\n",
    "<img src=\"images/4.2.jpg\">\n",
    "The yellow block denotes the segment marker `0xFFDB`. After that, we can see the 2 byte length value, bytes 3 and 4. Let's assume that this value was 132.\n",
    "After the length, we enter a light green block, which contains a quantization table. We first read byte 5, the information byte of a table. Afterwards, we read the 64 values for that table, bytes 6 through 69.\n",
    "At this point, from the tables alone we would not know if we had completed the segment. But since the total length was 132, and we had read 2 bytes for the length itself plus 65 bytes for the first table, there are `132 - 2 - 65 > 0` some number of bytes remaining. So we continue, assuming that there will be at least 1 more complete table to read. Again, reading 1 information bit, byte 70, and 64 values, bytes 71 through 134, giving us our second quantization table from this segment. At this point, `132` bytes have been read, so the segment is completed.\n",
    "\n",
    "\n",
    "Should be doing zip zag to revert to the original form.\n",
    "Is it always symmetrical?"
   ]
  },
  {
   "cell_type": "code",
   "execution_count": 6,
   "metadata": {},
   "outputs": [],
   "source": [
    "def reverse_zigzag(m):\n",
    "    pos = (0, 0) #row, col\n",
    "    d = \"up\"\n",
    "    r = np.zeros((len(m), len(m)))\n",
    "    for n in m.flatten():\n",
    "        r[pos[0], pos[1]] = n        \n",
    "        if d == \"up\":\n",
    "            if pos[0] == 0: #going up, hit the top\n",
    "                d = \"down\"\n",
    "                if pos[1] == len(m)-1: #hit the top/right corner\n",
    "                    pos = (pos[0]+1, pos[1])\n",
    "                else: #hit the top when going up\n",
    "                    pos = (pos[0], pos[1]+1)\n",
    "            elif pos[1] == len(m)-1: #hit the right side when going up\n",
    "                d = \"down\"\n",
    "                pos = (pos[0]+1, pos[1])\n",
    "            else: #somewhere in middle\n",
    "                pos = (pos[0]-1, pos[1]+1)\n",
    "        else: #going down\n",
    "            if pos[0] == len(m)-1: #hit the bottom\n",
    "                d = \"up\"\n",
    "                if pos[0] == 0: #hit the bottom/left corner\n",
    "                    pos = (pos[0], pos[1]+1)\n",
    "                else: #hit bottom\n",
    "                    pos = (pos[0], pos[1]+1)\n",
    "            elif pos[1] == 0: #hit the left side\n",
    "                d = \"up\"\n",
    "                pos = (pos[0]+1, pos[1])\n",
    "            else: #somewhere in the middle\n",
    "                pos = (pos[0]+1, pos[1]-1)\n",
    "    return r"
   ]
  },
  {
   "cell_type": "code",
   "execution_count": 7,
   "metadata": {},
   "outputs": [],
   "source": [
    "import numpy as np\n",
    "\n",
    "def parse_DQT(file):\n",
    "    #length = 6+2(number of components)\n",
    "    length = hti(file.read(2))\n",
    "    tables = []\n",
    "    pos = length-2\n",
    "    \n",
    "    while pos > 0:\n",
    "        qt = hti(file.read(1))\n",
    "        number = qt&0xF\n",
    "        precision = qt >> 4\n",
    "        table = {\n",
    "            \"id\": number,\n",
    "            \"precision\": precision\n",
    "        }\n",
    "        data = []\n",
    "        for i in range(64*(precision+1)):\n",
    "            data.append(hti(file.read(1)))\n",
    "        matrix = reverse_zigzag(np.array(data).reshape(8,8))\n",
    "        \n",
    "        table[\"matrix\"] = matrix\n",
    "        tables.append(table)\n",
    "        \n",
    "        pos-=(1 + (64*(1+precision)))\n",
    "        \n",
    "    return {\n",
    "        \"length\": length,\n",
    "        \"tables\": tables\n",
    "    }"
   ]
  },
  {
   "cell_type": "markdown",
   "metadata": {},
   "source": [
    "### Section 4: Huffman Encoding<a name=\"4\"></a>\n",
    "\n",
    "Image data isn't stored as raw pixel values, but as huffman encoded symbols."
   ]
  },
  {
   "cell_type": "code",
   "execution_count": 8,
   "metadata": {},
   "outputs": [],
   "source": [
    "def generate_bitstrings(table):\n",
    "    #mapping = {}\n",
    "    bitstrings = []\n",
    "    value = 0\n",
    "    for i in range(1,table[\"last non-zero\"]+2):\n",
    "        if table[\"lengths\"][i-1] == 0:\n",
    "            continue\n",
    "        strings = []\n",
    "        for code in range(table[\"lengths\"][i-1]):\n",
    "            bitstring = \"{0:b}\".format(value)\n",
    "            bitstring = (i - len(bitstring))*\"0\" + bitstring\n",
    "            strings.append(bitstring)\n",
    "            bitstrings.append(bitstring)\n",
    "            value+=1\n",
    "        #mapping[i] = strings\n",
    "        value <<= 1\n",
    "    return bitstrings"
   ]
  },
  {
   "cell_type": "code",
   "execution_count": 9,
   "metadata": {},
   "outputs": [
    {
     "name": "stdout",
     "output_type": "stream",
     "text": [
      "('000', 4)\n",
      "('001', 5)\n",
      "('010', 3)\n",
      "('011', 2)\n",
      "('100', 6)\n",
      "('101', 1)\n",
      "('110', 0)\n",
      "('1110', 7)\n",
      "('11110', 8)\n",
      "('111110', 9)\n",
      "('1111110', 10)\n",
      "('11111110', 11)\n"
     ]
    }
   ],
   "source": [
    "table = {\n",
    "    \"last non-zero\": 15,\n",
    "    \"lengths\": [0, 0, 7, 1, 1, 1, 1, 1, 0, 0, 0, 0, 0, 0, 0, 0],\n",
    "    \"symbols\": [4, 5, 3, 2, 6, 1, 0, 7, 8, 9, 10, 11]\n",
    "}\n",
    "\n",
    "bitstrings = generate_bitstrings(table)\n",
    "for pair in zip(bitstrings, table[\"symbols\"]):\n",
    "    print(pair)"
   ]
  },
  {
   "cell_type": "markdown",
   "metadata": {},
   "source": [
    "format is Y Cb Cr for each MCU, in order. "
   ]
  },
  {
   "cell_type": "markdown",
   "metadata": {},
   "source": [
    "xFFx00 are bytestuffed so that xFF isn't confused for a marker. so you have to remove the x00"
   ]
  },
  {
   "cell_type": "code",
   "execution_count": 10,
   "metadata": {},
   "outputs": [],
   "source": [
    "bit_buffer = \"\"\n",
    "prev_byte = None\n",
    "def read_bit(file):\n",
    "    global bit_buffer\n",
    "    global prev_byte\n",
    "    if bit_buffer == \"\":\n",
    "        byte = file.read(1)\n",
    "        if prev_byte == b'\\xff' and byte == b'\\x00':\n",
    "            byte = file.read(1)\n",
    "        prev_byte = byte\n",
    "        bit_buffer = str(bin(hti(byte)))[2:]\n",
    "        if len(bit_buffer) < 8:\n",
    "            bit_buffer = \"0\"*(8 - len(bit_buffer)) + bit_buffer\n",
    "    bit = int(bit_buffer[:1])\n",
    "    bit_buffer = bit_buffer[1:]\n",
    "    return bit"
   ]
  },
  {
   "cell_type": "code",
   "execution_count": 11,
   "metadata": {},
   "outputs": [],
   "source": [
    "def parse_DHT(file):\n",
    "    length = hti(file.read(2))\n",
    "    pos = length\n",
    "    count = 0\n",
    "    tables = []\n",
    "\n",
    "    while pos > 0 and count < 4:\n",
    "        count+=1\n",
    "        ht_info = hti(file.read(1))\n",
    "        pos-=1\n",
    "        number = ht_info&0xF\n",
    "        ht_type = ht_info >> 4\n",
    "        \n",
    "        table = {\"id\": number, \"type\": ht_type}\n",
    "        \n",
    "        lengths = []\n",
    "        last = None\n",
    "        for i in range(16):\n",
    "            l = hti(file.read(1))\n",
    "            lengths.append(l)\n",
    "            if l != 0:\n",
    "                last = i\n",
    "        table[\"lengths\"] = lengths\n",
    "        table[\"last non-zero\"] = last\n",
    "        pos-=16\n",
    "                \n",
    "        symbols = []\n",
    "        for i in range(16):\n",
    "            if lengths[i] > 0:\n",
    "                for j in range(lengths[i]):\n",
    "                    symbols.append(hti(file.read(1)))\n",
    "                    pos-=1\n",
    "        table[\"symbols\"] = symbols\n",
    "        tables.append(table)\n",
    "    \n",
    "    maps = {}\n",
    "    for table in tables:\n",
    "        if table[\"id\"] not in maps.keys():\n",
    "            maps[table[\"id\"]] = {}\n",
    "        #print(len(generate_bitstrings(table)), len(table[\"symbols\"]))\n",
    "        #set the entry in the table to a dictionary mapping the bit string pattern to the symbol\n",
    "        #Example: maps[0][\"DC\"][100010] -> 233\n",
    "        maps[table[\"id\"]][\"DC\" if table[\"type\"]==0 else \"AC\"] = dict(zip(generate_bitstrings(table), table[\"symbols\"]))\n",
    "        #maps[table[\"id\"]][\"DC\" if table[\"type\"]==0 else \"AC\"] = generate_bitstrings(table)\n",
    "        \n",
    "    return { \"length\": length, \"tables\": tables, \"maps\": maps }"
   ]
  },
  {
   "cell_type": "code",
   "execution_count": 12,
   "metadata": {},
   "outputs": [],
   "source": [
    "def signed_dc(dc, size):\n",
    "    if size == 0:\n",
    "        return 0\n",
    "    lo = 2**(size-1)\n",
    "    hi = lo*2-1\n",
    "    mid = 2**size/2\n",
    "    if dc < mid:\n",
    "        d = mid - dc\n",
    "        return -(lo + d - 1)\n",
    "    else:\n",
    "        d = dc - mid\n",
    "        return lo + d"
   ]
  },
  {
   "cell_type": "code",
   "execution_count": 13,
   "metadata": {},
   "outputs": [],
   "source": [
    "def parse_SOS(file):\n",
    "    #length = 6+2*(number of components)\n",
    "    length = hti(file.read(2))\n",
    "    number_components = hti(file.read(1))\n",
    "    components = []\n",
    "    for i in range(number_components):\n",
    "        cid = hti(file.read(1))\n",
    "        table = hti(file.read(1))\n",
    "        components.append({\n",
    "            \"id\": cid,\n",
    "            \"AC\": table&0xF,\n",
    "            \"DC\": table>>4\n",
    "        })\n",
    "    file.read(3)\n",
    "    \n",
    "    return {\n",
    "        \"length\": length,\n",
    "        \"number of components\": number_components,\n",
    "        \"components\": components\n",
    "    }    "
   ]
  },
  {
   "cell_type": "markdown",
   "metadata": {},
   "source": [
    "For the DC value, you have to read in bits to get the huffman code. this value however is not the actual value, but the number of bits to read in. so if the huff table says the value is 6, you read in 6 more bits to get the DC value. for the AC components, you just read them straight from the table. for both, if an EOB/zero value is found, you just assume 0 for the rest of that section."
   ]
  },
  {
   "cell_type": "code",
   "execution_count": 14,
   "metadata": {},
   "outputs": [],
   "source": [
    "def read_image_data(file):\n",
    "    mcus = []\n",
    "    #loop over all MCUs\n",
    "    #potentially make this a while(true), and then break when not enough information is found\n",
    "    for current_mcu in range(1):\n",
    "        #loop over the color components for each mcu\n",
    "        mcu = []\n",
    "        for component in data[\"SOS\"][0][\"components\"]:\n",
    "            print(\"MCU {}, component {}\".format(current_mcu, component))\n",
    "            \n",
    "            dc_map = data[\"DHT\"][0][\"maps\"][component[\"DC\"]][\"DC\"]\n",
    "            ac_map = data[\"DHT\"][0][\"maps\"][component[\"AC\"]][\"AC\"]\n",
    "\n",
    "            #number of bits for DC value\n",
    "            bit_string = str(read_bit(file))\n",
    "            while bit_string not in dc_map:\n",
    "                bit_string += str(read_bit(file))\n",
    "            bits = dc_map[bit_string]\n",
    "            \n",
    "            #1 DC value\n",
    "            bit_string = \"\"\n",
    "            for i in range(bits):\n",
    "                bit_string+=str(read_bit(file))\n",
    "            \n",
    "            if bit_string == \"\":\n",
    "                bit_string = \"0\"\n",
    "            \n",
    "            dc = signed_dc(int(bit_string, 2), bits)\n",
    "            dct = [dc]\n",
    "\n",
    "            #63 AC values\n",
    "            for i in range(63):\n",
    "                \n",
    "                #get next AC value\n",
    "                bit_string = str(read_bit(file))\n",
    "                while bit_string not in ac_map:\n",
    "                    bit_string += str(read_bit(file))\n",
    "                dct.append(ac_map[bit_string])\n",
    "                                \n",
    "                #0 code corresponds to EOB, end of block.\n",
    "                if ac_map[bit_string] == 0:\n",
    "                    break\n",
    "                    \n",
    "                bit_string = \"\"\n",
    "\n",
    "            #fill in remaining spots with 0\n",
    "            if len(dct) < 64:\n",
    "                dct = dct + (64-len(dct))*[0]\n",
    "                \n",
    "            dct = np.array(dct)\n",
    "            dct = dct.reshape(8,8)\n",
    "            mcu.append(dct)\n",
    "            \n",
    "        mcus.append(mcu)\n",
    "        \n",
    "    return mcus"
   ]
  },
  {
   "cell_type": "code",
   "execution_count": 71,
   "metadata": {
    "scrolled": false
   },
   "outputs": [
    {
     "name": "stdout",
     "output_type": "stream",
     "text": [
      "MCU 0, component {'id': 1, 'AC': 0, 'DC': 0}\n",
      "MCU 0, component {'id': 2, 'AC': 1, 'DC': 1}\n",
      "MCU 0, component {'id': 3, 'AC': 1, 'DC': 1}\n"
     ]
    }
   ],
   "source": [
    "def pretty(d, indent=0):\n",
    "    for key, value in d.items():\n",
    "        print('\\t' * indent + str(key))\n",
    "        if isinstance(value, dict):\n",
    "            pretty(value, indent+1)\n",
    "        else:\n",
    "            print('\\t' * (indent+1) + str(value))\n",
    "\n",
    "def next_segment(file):\n",
    "    '''\n",
    "    markers = {\n",
    "        0xFFD8: \"SOI\",\n",
    "        0xFFE0: \"APP0\",\n",
    "        0xFFC0: \"SOF0\",\n",
    "        0xFFC4: \"DHT\",\n",
    "        0xFFDB: \"DQT\",\n",
    "        0xFFDA: \"SOS\",\n",
    "        0xFFD9: \"EOI\",\n",
    "    }'''\n",
    "    \n",
    "    b1 = file.read(1)\n",
    "    b2 = file.read(1)\n",
    "\n",
    "    while hti(b1+b2) not in markers.keys():\n",
    "        b1 = b2\n",
    "        b2 = file.read(1)\n",
    "        \n",
    "    m = hti(b1+b2)\n",
    "    return markers[m]\n",
    "\n",
    "file = open(image_filename, \"rb\")\n",
    "data = {\n",
    "    \"SOF0\": [],\n",
    "    \"DHT\": [],\n",
    "    \"DQT\": [],\n",
    "    \"SOS\": []\n",
    "}\n",
    "bit_buffer = \"\"\n",
    "\n",
    "for i in range(10):\n",
    "    segment = next_segment(file)\n",
    "    #print(segment+\"---------\\n\")\n",
    "    if segment == \"SOF0\":\n",
    "        data[segment].append(parse_SOF0(file))\n",
    "        #pretty(data[segment][-1])\n",
    "    elif segment == \"DHT\":\n",
    "        data[segment].append(parse_DHT(file))\n",
    "        #pretty(data[segment][-1])\n",
    "    elif segment == \"DQT\":\n",
    "        data[segment].append(parse_DQT(file))\n",
    "        #print(data[segment][0][\"tables\"][0][\"matrix\"])\n",
    "        #print(data[segment][0][\"tables\"][1][\"matrix\"])\n",
    "        #pretty(data[segment][-1])\n",
    "    elif segment == \"SOS\":\n",
    "        data[segment].append(parse_SOS(file))\n",
    "        mcus = read_image_data(file)\n",
    "        #print(mcus)\n",
    "        #build_image(mcus)\n",
    "        break\n",
    "file.close()"
   ]
  },
  {
   "cell_type": "code",
   "execution_count": 57,
   "metadata": {},
   "outputs": [],
   "source": [
    "import skimage as ski\n",
    "def ycbcr_to_rgb(c):\n",
    "    y = c[0]\n",
    "    cb = c[1]\n",
    "    cr = c[2]\n",
    "    r = y+1.402*(cr-128)\n",
    "    g = y-0.344136*(cb-128)-0.714136*(cr-128)\n",
    "    b = y+1.772*(cb-128)\n",
    "    return r, g, b\n",
    "\n"
   ]
  },
  {
   "cell_type": "code",
   "execution_count": 64,
   "metadata": {},
   "outputs": [],
   "source": [
    "def build_image(mcus):\n",
    "    img = []\n",
    "    for mcu in mcus:\n",
    "        #loop through the color channels\n",
    "        qt = 0\n",
    "        c = []\n",
    "        for channel in mcu:\n",
    "            corrected = reverse_zigzag(channel)\n",
    "            #corrected = channel\n",
    "            print(corrected)\n",
    "            corrected = build_mcu(corrected, 0)\n",
    "            print(corrected)\n",
    "            print(\"-------------------------\")\n",
    "            c.append(corrected)\n",
    "            qt = 1\n",
    "        #z = np.array([a for a in zip(c[0].flatten(), c[1].flatten(), c[2].flatten())])\n",
    "        z = np.array([a for a in zip(c[0].flatten(), c[0].flatten(), c[0].flatten())])\n",
    "        k = [ycbcr_to_rgb(a) for a in z]\n",
    "        k = z\n",
    "        k = np.array(k).reshape(8, 8, 3) / 255\n",
    "        if len(img) == 0:\n",
    "            img = k\n",
    "        else:\n",
    "            img = np.concatenate((img, k), axis=1)\n",
    "    plt.imshow(img)"
   ]
  },
  {
   "cell_type": "code",
   "execution_count": 21,
   "metadata": {},
   "outputs": [],
   "source": [
    "m1 = np.array([[ 2,  2,  2,  2,  2,  2,  2,  2],\n",
    "          [ 2,  2,  3,  2,  2,  2,  3,  4],\n",
    "          [ 3,  2,  2,  3,  4,  4,  4,  4],\n",
    "          [ 4,  4,  4,  4,  6,  4,  5,  5],\n",
    "          [ 5,  5,  4,  6,  6,  7,  7,  7],\n",
    "          [ 7,  7,  6,  9,  9, 10, 10,  9],\n",
    "          [ 9, 12, 12, 12, 12, 12, 12, 12],\n",
    "          [12, 12, 12, 12, 12, 12, 12, 12]])\n",
    "\n",
    "m2 = np.array([[ 2,  3,  3,  5,  4,  5,  9,  6],\n",
    "       [ 6,  9, 13, 10,  8, 10, 13, 15],\n",
    "       [14, 14, 14, 14, 15, 15, 12, 12],\n",
    "       [12, 12, 12, 15, 15, 12, 12, 12],\n",
    "       [12, 12, 12, 15, 12, 12, 12, 12],\n",
    "       [12, 12, 12, 12, 12, 12, 12, 12],\n",
    "       [12, 12, 12, 12, 12, 12, 12, 12],\n",
    "       [12, 12, 12, 12, 12, 12, 12, 12]])\n",
    "\n",
    "def reverse_zigzag(m):\n",
    "    pos = (0, 0) #row, col\n",
    "    d = \"up\"\n",
    "    r = np.zeros((len(m), len(m)))\n",
    "    for n in m.flatten():\n",
    "        r[pos[0], pos[1]] = n        \n",
    "        if d == \"up\":\n",
    "            if pos[0] == 0: #going up, hit the top\n",
    "                d = \"down\"\n",
    "                if pos[1] == len(m)-1: #hit the top/right corner\n",
    "                    pos = (pos[0]+1, pos[1])\n",
    "                else: #hit the top when going up\n",
    "                    pos = (pos[0], pos[1]+1)\n",
    "            elif pos[1] == len(m)-1: #hit the right side when going up\n",
    "                d = \"down\"\n",
    "                pos = (pos[0]+1, pos[1])\n",
    "            else: #somewhere in middle\n",
    "                pos = (pos[0]-1, pos[1]+1)\n",
    "        else: #going down\n",
    "            if pos[0] == len(m)-1: #hit the bottom\n",
    "                d = \"up\"\n",
    "                if pos[0] == 0: #hit the bottom/left corner\n",
    "                    pos = (pos[0], pos[1]+1)\n",
    "                else: #hit bottom\n",
    "                    pos = (pos[0], pos[1]+1)\n",
    "            elif pos[1] == 0: #hit the left side\n",
    "                d = \"up\"\n",
    "                pos = (pos[0]+1, pos[1])\n",
    "            else: #somewhere in the middle\n",
    "                pos = (pos[0]+1, pos[1]-1)\n",
    "    return r"
   ]
  },
  {
   "cell_type": "markdown",
   "metadata": {},
   "source": [
    "cosine"
   ]
  },
  {
   "cell_type": "code",
   "execution_count": 68,
   "metadata": {},
   "outputs": [],
   "source": [
    "def build_mcu(dct, qt):\n",
    "    q = data[\"DQT\"][0][\"tables\"][qt][\"matrix\"]\n",
    "    m = np.multiply(dct, q)\n",
    "    m = idctn(m, norm=\"ortho\")\n",
    "    m = np.round(m)\n",
    "    m += 128\n",
    "    m = m.clip(0, 255)\n",
    "    return m"
   ]
  },
  {
   "cell_type": "code",
   "execution_count": 23,
   "metadata": {},
   "outputs": [
    {
     "name": "stdout",
     "output_type": "stream",
     "text": [
      "[[ 62.  65.  57.  60.  72.  63.  60.  82.]\n",
      " [ 57.  55.  56.  82. 108.  87.  62.  71.]\n",
      " [ 58.  50.  60. 111. 148. 114.  67.  65.]\n",
      " [ 65.  55.  66. 120. 155. 114.  68.  70.]\n",
      " [ 70.  63.  67. 101. 122.  88.  60.  78.]\n",
      " [ 71.  71.  64.  70.  80.  62.  56.  81.]\n",
      " [ 75.  82.  67.  54.  63.  65.  66.  83.]\n",
      " [ 81.  94.  75.  54.  68.  81.  81.  87.]]\n"
     ]
    },
    {
     "data": {
      "text/plain": [
       "<matplotlib.image.AxesImage at 0x25ac741d048>"
      ]
     },
     "execution_count": 23,
     "metadata": {},
     "output_type": "execute_result"
    },
    {
     "data": {
      "image/png": "[encoded data removed]",
      "text/plain": [
       "<Figure size 432x288 with 1 Axes>"
      ]
     },
     "metadata": {
      "needs_background": "light"
     },
     "output_type": "display_data"
    }
   ],
   "source": [
    "from scipy.fftpack import idctn\n",
    "q1 = data[\"DQT\"][0][\"tables\"][0][\"matrix\"]\n",
    "q2 = data[\"DQT\"][0][\"tables\"][1][\"matrix\"]\n",
    "\n",
    "a = np.array([[ 5,  2, 33,  0,  0,  0,  0,  0],\n",
    "       [ 0,  0,  0,  0,  0,  0,  0,  0],\n",
    "       [ 0,  0,  0,  0,  0,  0,  0,  0],\n",
    "       [ 0,  0,  0,  0,  0,  0,  0,  0],\n",
    "       [ 0,  0,  0,  0,  0,  0,  0,  0],\n",
    "       [ 0,  0,  0,  0,  0,  0,  0,  0],\n",
    "       [ 0,  0,  0,  0,  0,  0,  0,  0],\n",
    "       [ 0,  0,  0,  0,  0,  0,  0,  0]])\n",
    "\n",
    "#add in difference from previous DC value\n",
    "\n",
    "#entry-for-entry product with quantization matrix\n",
    "a = np.multiply(a, q2)\n",
    "\n",
    "#inverse DCT\n",
    "a = idctn(a, norm=\"ortho\")\n",
    "\n",
    "#round all values\n",
    "a = np.round(a)\n",
    "\n",
    "#add 128 to all entries\n",
    "img = a + 128\n",
    "\n",
    "#clip values outside [0, 255]\n",
    "\n",
    "test = np.array([[-416, -33, -60, 32, 48, -40, 0, 0],\n",
    "                [0, -24, -56, 19, 26, 0, 0, 0],\n",
    "                [-42, 13, 80, -24, -40, 0, 0, 0],\n",
    "                [-42, 17, 44, -29, 0, 0, 0, 0],\n",
    "                [18, 0, 0, 0, 0, 0, 0, 0],\n",
    "                [0, 0, 0, 0, 0, 0, 0, 0],\n",
    "                [0, 0, 0, 0, 0, 0, 0, 0],\n",
    "                [0, 0, 0, 0, 0, 0, 0, 0]])\n",
    "r = idctn(test, norm=\"ortho\")\n",
    "r = np.round(r)\n",
    "r += 128\n",
    "img = r.reshape(8,8)\n",
    "print(img)\n",
    "plt.imshow(img)"
   ]
  },
  {
   "cell_type": "code",
   "execution_count": 24,
   "metadata": {},
   "outputs": [
    {
     "data": {
      "text/plain": [
       "<module 'matplotlib.pyplot' from 'c:\\\\users\\\\skyle\\\\appdata\\\\local\\\\programs\\\\python\\\\python37\\\\lib\\\\site-packages\\\\matplotlib\\\\pyplot.py'>"
      ]
     },
     "execution_count": 24,
     "metadata": {},
     "output_type": "execute_result"
    },
    {
     "data": {
      "image/png": "[encoded data removed]",
      "text/plain": [
       "<Figure size 432x288 with 1 Axes>"
      ]
     },
     "metadata": {
      "needs_background": "light"
     },
     "output_type": "display_data"
    }
   ],
   "source": [
    "import matplotlib.pyplot as plt\n",
    "img = [[[45,255,43]]]\n",
    "plt.imshow(img)\n",
    "plt"
   ]
  },
  {
   "cell_type": "code",
   "execution_count": null,
   "metadata": {},
   "outputs": [],
   "source": []
  }
 ],
 "metadata": {
  "kernelspec": {
   "display_name": "Python 3",
   "language": "python",
   "name": "python3"
  },
  "language_info": {
   "codemirror_mode": {
    "name": "ipython",
    "version": 3
   },
   "file_extension": ".py",
   "mimetype": "text/x-python",
   "name": "python",
   "nbconvert_exporter": "python",
   "pygments_lexer": "ipython3",
   "version": "3.7.3"
  }
 },
 "nbformat": 4,
 "nbformat_minor": 2
}
