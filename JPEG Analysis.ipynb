{
 "cells": [
  {
   "cell_type": "markdown",
   "metadata": {},
   "source": [
    "# JPEG Analysis\n",
    "## An in-depth look at the JPEG File Interchange Format with Python3\n",
    "#### Skyler Rankin 2019\n",
    "##### *Version 0.1*"
   ]
  },
  {
   "cell_type": "markdown",
   "metadata": {},
   "source": [
    "### Introduction\n",
    "This notebook attempts to explore the mechanisms at play behind one of the most widely used image file formats. In short, by parsing the file byte by byte, and using specification reference, we can interpret all of the information stored in the file, and even generate the corresponding image without a pre-built image viewer. The primary reference used will be the report given by Ecma-Internation found [here](https://www.ecma-international.org/publications/files/ECMA-TR/ECMA%20TR-098.pdf).\n",
    "\n",
    "#### Table of Contents\n",
    "[link](#one)\n",
    "\n",
    "### <a name=\"one\"></a>This is the Heading"
   ]
  },
  {
   "cell_type": "markdown",
   "metadata": {},
   "source": [
    "### Section 2: Importing an Image\n",
    "First, we must select an image to work with. I have included a small default image with this repository for testing, but feel free to add your own by adding the file to the project root and changing the filename in the code below."
   ]
  },
  {
   "cell_type": "code",
   "execution_count": 1,
   "metadata": {},
   "outputs": [
    {
     "data": {
      "image/jpeg": "[encoded data removed]",
      "text/plain": [
       "<IPython.core.display.Image object>"
      ]
     },
     "execution_count": 1,
     "metadata": {
      "image/jpeg": {
       "width": 100
      }
     },
     "output_type": "execute_result"
    }
   ],
   "source": [
    "from IPython.display import Image\n",
    "image_filename = \"colors.jpg\"\n",
    "Image(image_filename, width=100)"
   ]
  },
  {
   "cell_type": "markdown",
   "metadata": {},
   "source": [
    "### Section 3: Basic Structure\n",
    "The structure of a JPEG file relies upon a system of **markers**. These are specific 2-byte sequences that are reserved for a specific purpose, so that when you see one in the file, you can be sure of its purpose. For convenience, I will represent these byte sequences as hex values preceeded by `0x`, meaning the decimal number `78` is represented as `01001110` as binary in the image file, but is written as `0x4E` for our purposes. In the JPEG File Format, all markers are preceeded by `0xFF`, which makes the marker two btes in total.\n",
    "The first markers to look for are the **SOI** and **EOI** markers. These signify **start of image** and **end of image** respectively.\n",
    "\n",
    "Marker | Value\n",
    "--- | --- \n",
    "SOI | 0xD8\n",
    "EOI | 0xD9\n",
    "\n",
    "We can be sure that no important information for the image will come before the `SOI` marker, and no information will come after the `EOI`. The information between these markers can be referred to as a segment. Other markers use a different system to define their segment. A common idea is using a **header**. This is a small sequence of bytes at the beginning of the segment that describe what that segment contains. The specifics for the headers are dependent on the marker type, but we will see many of these headers as we parse the image file. An example of this is the `SOF0` marker, which denotes the **start of frame 0**. This segment uses the marker `0xC0` and contains information regarding the image data.\n"
   ]
  },
  {
   "cell_type": "code",
   "execution_count": 2,
   "metadata": {},
   "outputs": [
    {
     "name": "stdout",
     "output_type": "stream",
     "text": [
      "216\n",
      "216\n"
     ]
    }
   ],
   "source": [
    "def hti(h):\n",
    "    return int.from_bytes(h, byteorder='big')\n",
    "\n",
    "print(hti(b'\\xD8'))\n",
    "print(16*13+8)"
   ]
  },
  {
   "cell_type": "markdown",
   "metadata": {},
   "source": [
    "### Section 4: Parsing Segments\n",
    "\n",
    "all the segments welaas  parse\n",
    "\n",
    "firs tis siof"
   ]
  },
  {
   "cell_type": "code",
   "execution_count": 3,
   "metadata": {},
   "outputs": [],
   "source": [
    "def parse_SOF0(file):\n",
    "    #length = 8 + (#components * 3)\n",
    "    length = hti(file.read(2))\n",
    "    #bits/sample\n",
    "    precision = hti(file.read(1))\n",
    "    height = hti(file.read(2))\n",
    "    width = hti(file.read(2))\n",
    "    #1 = grey scale, 3 = YCbCr, 4 = CMYK\n",
    "    num_components = hti(file.read(1))\n",
    "    components = []\n",
    "    for i in range(int((length - 8) / 3)):\n",
    "        #1 = Y, 2 = Cb, 3 = Cr, 4 = I, 5 = Q\n",
    "        component_id = hti(file.read(1))\n",
    "        sampling_factor = hti(file.read(1))\n",
    "        q_table = hti(file.read(1))\n",
    "        components.append({\n",
    "            \"id\": component_id,\n",
    "            \"sampling_factor\": sampling_factor,\n",
    "            \"q_table\": q_table\n",
    "        })\n",
    "    return {\n",
    "        \"length\": length,\n",
    "        \"precision\": precision,\n",
    "        \"height\": height,\n",
    "        \"width\": width,\n",
    "        \"num_components\": num_components,\n",
    "        \"components\": components\n",
    "    }"
   ]
  },
  {
   "cell_type": "markdown",
   "metadata": {},
   "source": [
    "next is fht"
   ]
  },
  {
   "cell_type": "markdown",
   "metadata": {},
   "source": [
    "thsld dqt"
   ]
  },
  {
   "cell_type": "code",
   "execution_count": 4,
   "metadata": {},
   "outputs": [],
   "source": [
    "import numpy as np\n",
    "\n",
    "def parse_DQT(file):\n",
    "    #length = 6+2(number of components)\n",
    "    length = hti(file.read(2))\n",
    "    tables = []\n",
    "    pos = length-2\n",
    "    \n",
    "    while pos > 0:\n",
    "        qt = hti(file.read(1))\n",
    "        number = qt&0xF\n",
    "        precision = qt >> 4\n",
    "        table = {\n",
    "            \"id\": number,\n",
    "            \"precision\": precision\n",
    "        }\n",
    "        data = []\n",
    "        for i in range(64*(precision+1)):\n",
    "            data.append(hti(file.read(1)))\n",
    "        matrix = np.array(data)\n",
    "        matrix = matrix.reshape(8,8)\n",
    "        \n",
    "        table[\"matrix\"] = matrix\n",
    "        tables.append(table)\n",
    "        \n",
    "        pos-=(1 + (64*(1+precision)))\n",
    "        \n",
    "    return {\n",
    "        \"length\": length,\n",
    "        \"tables\": tables\n",
    "    }"
   ]
  },
  {
   "cell_type": "markdown",
   "metadata": {},
   "source": [
    "help\n",
    "help"
   ]
  },
  {
   "cell_type": "markdown",
   "metadata": {},
   "source": [
    "huffyman shit"
   ]
  },
  {
   "cell_type": "code",
   "execution_count": 5,
   "metadata": {},
   "outputs": [],
   "source": [
    "def generate_bitstrings(table):\n",
    "    bitstrings = {}    \n",
    "    value = 0\n",
    "    for i in range(1,table[\"last non-zero\"]+2):\n",
    "        if table[\"lengths\"][i-1] == 0:\n",
    "            continue\n",
    "        strings = []\n",
    "        for code in range(table[\"lengths\"][i-1]):\n",
    "            strings.append(value)\n",
    "            value+=1\n",
    "        bitstrings[i] = strings\n",
    "        value <<= 1\n",
    "    return bitstrings"
   ]
  },
  {
   "cell_type": "code",
   "execution_count": 6,
   "metadata": {},
   "outputs": [],
   "source": [
    "class TreeNode:\n",
    "    def __init__(self, value=None, left=None, right=None):\n",
    "        self.value = value\n",
    "        self.left = left\n",
    "        self.right = right\n",
    "    \n",
    "    def get_node(self, path):\n",
    "        if path == '':\n",
    "            return self\n",
    "        return self.left.get_node(path[1:]) if path[0:1] == '0' else self.right.get_node(path[1:])\n",
    "    \n",
    "def make_node(root, path, value):\n",
    "    if path==\"\":\n",
    "        root.value = value\n",
    "    elif path[:1] == \"0\":\n",
    "        if root.left == None:\n",
    "            root.left = TreeNode()\n",
    "        make_node(root.left, path[1:], value)\n",
    "    else:\n",
    "        if root.right == None:\n",
    "            root.right = TreeNode()\n",
    "        make_node(root.right, path[1:], value)\n",
    "        \n",
    "def generate_tree(table):\n",
    "    bitstrings = generate_bitstrings(table)\n",
    "    root = TreeNode(value=None)\n",
    "    value_index = 0\n",
    "    for level in range(1, table[\"last non-zero\"]+2):\n",
    "        if level not in bitstrings.keys():\n",
    "            continue\n",
    "        for s in bitstrings[level]:\n",
    "            binary = str(bin(s))[2:]\n",
    "            path = (\"0\"*(level-len(binary)))+binary\n",
    "            make_node(root, path, table[\"symbols\"][value_index])\n",
    "            value_index+=1\n",
    "    return root\n",
    "\n",
    "#import graphviz\n",
    "#graph = graphviz.Digraph()\n",
    "#graph.edge(\"a\", \"b\")\n",
    "#graph.edge(\"a\", \"c\")\n",
    "#graph.edge(\"b\", \"d\")\n",
    "#graph.edge(\"b\", \"e\")\n",
    "#graph.edge(\"c\", \"t\")\n",
    "#graph"
   ]
  },
  {
   "cell_type": "code",
   "execution_count": 7,
   "metadata": {},
   "outputs": [],
   "source": [
    "def test_huffman_tree(table, tree):\n",
    "    bitstrings = generate_bitstrings(table)\n",
    "    print(\"---Testing Huffman Tree Implementation\")\n",
    "    print(\"bitstrings: {}\".format(bitstrings))\n",
    "    code = 0\n",
    "    for level in bitstrings:\n",
    "        print(\"Level = {}\".format(level))\n",
    "        for string in bitstrings[level]:\n",
    "            binary = str(bin(string))[2:]\n",
    "            path = (\"0\"*(level-len(binary)))+binary\n",
    "            symbol = tree.get_node(path).value\n",
    "            print(\"\\t{}: Expected {}, Found {}\".format(path, table[\"symbols\"][code], symbol))\n",
    "            code+=1\n",
    "    "
   ]
  },
  {
   "cell_type": "markdown",
   "metadata": {},
   "source": [
    "format is Y Cb Cr for each MCU, in order. "
   ]
  },
  {
   "cell_type": "code",
   "execution_count": 8,
   "metadata": {},
   "outputs": [],
   "source": [
    "bit_buffer = \"\"\n",
    "def read_bit(file):\n",
    "    global bit_buffer\n",
    "    if bit_buffer == \"\":\n",
    "        byte = file.read(1)\n",
    "        bit_buffer = str(bin(hti(byte)))[2:]\n",
    "        if len(bit_buffer) < 8:\n",
    "            bit_buffer = \"0\"*(8 - len(bit_buffer)) + bit_buffer\n",
    "        #print(\"\\tbit_buffer update: {}\".format(bit_buffer))\n",
    "    bit = int(bit_buffer[:1])\n",
    "    bit_buffer = bit_buffer[1:]\n",
    "    return bit"
   ]
  },
  {
   "cell_type": "code",
   "execution_count": 9,
   "metadata": {},
   "outputs": [],
   "source": [
    "def parse_DHT(file):\n",
    "    length = hti(file.read(2))\n",
    "    pos = length\n",
    "    count = 0\n",
    "    tables = []\n",
    "\n",
    "    while pos > 0 and count < 4:\n",
    "        count+=1\n",
    "        ht_info = hti(file.read(1))\n",
    "        pos-=1\n",
    "\n",
    "        number = ht_info&0xF\n",
    "        ht_type = ht_info >> 4\n",
    "        \n",
    "        table = {\"id\": number, \"type\": ht_type}\n",
    "        \n",
    "        lengths = []\n",
    "        last = None\n",
    "        for i in range(16):\n",
    "            l = hti(file.read(1))\n",
    "            lengths.append(l)\n",
    "            if l != 0:\n",
    "                last = i\n",
    "        table[\"lengths\"] = lengths\n",
    "        table[\"last non-zero\"] = last\n",
    "        pos-=16\n",
    "                \n",
    "        symbols = []\n",
    "        for i in range(16):\n",
    "            if lengths[i] > 0:\n",
    "                for j in range(lengths[i]):\n",
    "                    symbols.append(hti(file.read(1)))\n",
    "                    pos-=1\n",
    "        table[\"symbols\"] = symbols        \n",
    "        tables.append(table)\n",
    "        \n",
    "    trees = {}\n",
    "    for table in tables:\n",
    "        if table[\"id\"] not in trees.keys():\n",
    "            trees[table[\"id\"]] = {}\n",
    "            \n",
    "        if table[\"type\"] == 0:\n",
    "            trees[table[\"id\"]][\"DC\"] = generate_tree(table)\n",
    "            #test_huffman_tree(table, trees[table[\"id\"]][\"DC\"])\n",
    "        elif table[\"type\"] == 1:\n",
    "            trees[table[\"id\"]][\"AC\"] = generate_tree(table)\n",
    "        \n",
    "    return {\n",
    "        \"length\": length,\n",
    "        \"trees\": trees\n",
    "    }"
   ]
  },
  {
   "cell_type": "code",
   "execution_count": 10,
   "metadata": {},
   "outputs": [],
   "source": [
    "def parse_SOS(file):\n",
    "    #length = 6+2*(number of components)\n",
    "    length = hti(file.read(2))\n",
    "    number_components = hti(file.read(1))\n",
    "    components = []\n",
    "    for i in range(number_components):\n",
    "        cid = hti(file.read(1))\n",
    "        table = hti(file.read(1))\n",
    "        components.append({\n",
    "            \"id\": cid,\n",
    "            \"AC\": table&0xF,\n",
    "            \"DC\": table>>4\n",
    "        })\n",
    "    file.read(3)\n",
    "    \n",
    "    return {\n",
    "        \"length\": length,\n",
    "        \"number of components\": number_components,\n",
    "        \"components\": components\n",
    "    }    "
   ]
  },
  {
   "cell_type": "code",
   "execution_count": 11,
   "metadata": {},
   "outputs": [],
   "source": [
    "def read_image_data(file):\n",
    "    mcus = []\n",
    "    mcu = []\n",
    "    for i in range(data[\"SOS\"][0][\"number of components\"]):\n",
    "        trees = data[\"DHT\"][0][\"trees\"]\n",
    "        component = data[\"SOS\"][0][\"components\"][i]\n",
    "        #print(\"Reading Component {}: {}\".format(i, component))\n",
    "        \n",
    "        #DC value\n",
    "        tree = trees[component[\"DC\"]][\"DC\"]\n",
    "        while tree.value == None:\n",
    "            bit = read_bit(file)\n",
    "            tree = tree.get_node(str(bit))\n",
    "        dct = [tree.value]\n",
    "        #print(\"DC Value = {}\".format(tree.value))\n",
    "        \n",
    "        #63 AC values\n",
    "        tree = trees[component[\"AC\"]][\"AC\"]\n",
    "        for i in range(63):\n",
    "            while tree.value == None:\n",
    "                bit = read_bit(file)\n",
    "                tree = tree.get_node(str(bit))\n",
    "            dct.append(tree.value)\n",
    "            if tree.value == 0:\n",
    "                break;\n",
    "            tree = trees[component[\"AC\"]][\"AC\"]\n",
    "        \n",
    "        if len(dct) < 64:\n",
    "            dct = dct + (64-len(dct))*[0]\n",
    "        dct = np.array(dct)\n",
    "        dct = dct.reshape(8,8)\n",
    "        mcu.append(dct)\n",
    "    mcus.append(mcu)\n",
    "    print(mcus)"
   ]
  },
  {
   "cell_type": "code",
   "execution_count": 12,
   "metadata": {},
   "outputs": [
    {
     "name": "stdout",
     "output_type": "stream",
     "text": [
      "[[array([[ 5,  2, 33,  0,  0,  0,  0,  0],\n",
      "       [ 0,  0,  0,  0,  0,  0,  0,  0],\n",
      "       [ 0,  0,  0,  0,  0,  0,  0,  0],\n",
      "       [ 0,  0,  0,  0,  0,  0,  0,  0],\n",
      "       [ 0,  0,  0,  0,  0,  0,  0,  0],\n",
      "       [ 0,  0,  0,  0,  0,  0,  0,  0],\n",
      "       [ 0,  0,  0,  0,  0,  0,  0,  0],\n",
      "       [ 0,  0,  0,  0,  0,  0,  0,  0]]), array([[ 6,  1, 33,  3, 20,  1,  2, 17],\n",
      "       [49,  0,  0,  0,  0,  0,  0,  0],\n",
      "       [ 0,  0,  0,  0,  0,  0,  0,  0],\n",
      "       [ 0,  0,  0,  0,  0,  0,  0,  0],\n",
      "       [ 0,  0,  0,  0,  0,  0,  0,  0],\n",
      "       [ 0,  0,  0,  0,  0,  0,  0,  0],\n",
      "       [ 0,  0,  0,  0,  0,  0,  0,  0],\n",
      "       [ 0,  0,  0,  0,  0,  0,  0,  0]]), array([[ 4, 20,  3,  0,  0,  0,  0,  0],\n",
      "       [ 0,  0,  0,  0,  0,  0,  0,  0],\n",
      "       [ 0,  0,  0,  0,  0,  0,  0,  0],\n",
      "       [ 0,  0,  0,  0,  0,  0,  0,  0],\n",
      "       [ 0,  0,  0,  0,  0,  0,  0,  0],\n",
      "       [ 0,  0,  0,  0,  0,  0,  0,  0],\n",
      "       [ 0,  0,  0,  0,  0,  0,  0,  0],\n",
      "       [ 0,  0,  0,  0,  0,  0,  0,  0]])]]\n"
     ]
    }
   ],
   "source": [
    "def next_segment(file):\n",
    "    markers = {\n",
    "        0xFFD8: \"SOI\",\n",
    "        0xFFE0: \"APP0\",\n",
    "        0xFFC0: \"SOF0\",\n",
    "        0xFFC4: \"DHT\",\n",
    "        0xFFDB: \"DQT\",\n",
    "        0xFFDA: \"SOS\",\n",
    "        0xFFD9: \"EOI\",\n",
    "    }\n",
    "    \n",
    "    b1 = file.read(1)\n",
    "    b2 = file.read(1)\n",
    "\n",
    "    while hti(b1+b2) not in markers.keys():\n",
    "        b1 = b2\n",
    "        b2 = file.read(1)\n",
    "        \n",
    "    m = hti(b1+b2)\n",
    "    return markers[m]\n",
    "\n",
    "file = open(image_filename, \"rb\")\n",
    "data = {\n",
    "    \"SOF0\": [],\n",
    "    \"DHT\": [],\n",
    "    \"DQT\": [],\n",
    "    \"SOS\": []\n",
    "}\n",
    "\n",
    "for i in range(10):\n",
    "    segment = next_segment(file)\n",
    "    if segment == \"SOF0\":\n",
    "        data[segment].append(parse_SOF0(file))\n",
    "    elif segment == \"DHT\":\n",
    "        data[segment].append(parse_DHT(file))\n",
    "    elif segment == \"DQT\":\n",
    "        data[segment].append(parse_DQT(file))\n",
    "    elif segment == \"SOS\":\n",
    "        data[segment].append(parse_SOS(file))\n",
    "        read_image_data(file)\n",
    "        break\n",
    "file.close()"
   ]
  },
  {
   "cell_type": "markdown",
   "metadata": {},
   "source": [
    "cosine"
   ]
  },
  {
   "cell_type": "code",
   "execution_count": 68,
   "metadata": {},
   "outputs": [
    {
     "name": "stdout",
     "output_type": "stream",
     "text": [
      "[[146. 137. 123. 113. 113. 122. 135. 144.]\n",
      " [146. 137. 123. 113. 113. 122. 135. 144.]\n",
      " [146. 137. 123. 113. 113. 122. 135. 144.]\n",
      " [146. 137. 123. 113. 113. 122. 135. 144.]\n",
      " [146. 137. 123. 113. 113. 122. 135. 144.]\n",
      " [146. 137. 123. 113. 113. 122. 135. 144.]\n",
      " [146. 137. 123. 113. 113. 122. 135. 144.]\n",
      " [146. 137. 123. 113. 113. 122. 135. 144.]]\n"
     ]
    }
   ],
   "source": [
    "from scipy.fftpack import idctn\n",
    "q1 = data[\"DQT\"][0][\"tables\"][0][\"matrix\"]\n",
    "q2 = data[\"DQT\"][0][\"tables\"][1][\"matrix\"]\n",
    "\n",
    "a = np.array([[ 5,  2, 33,  0,  0,  0,  0,  0],\n",
    "       [ 0,  0,  0,  0,  0,  0,  0,  0],\n",
    "       [ 0,  0,  0,  0,  0,  0,  0,  0],\n",
    "       [ 0,  0,  0,  0,  0,  0,  0,  0],\n",
    "       [ 0,  0,  0,  0,  0,  0,  0,  0],\n",
    "       [ 0,  0,  0,  0,  0,  0,  0,  0],\n",
    "       [ 0,  0,  0,  0,  0,  0,  0,  0],\n",
    "       [ 0,  0,  0,  0,  0,  0,  0,  0]])\n",
    "\n",
    "#add in difference from previous DC value\n",
    "\n",
    "#entry-for-entry product with quantization matrix\n",
    "a = np.multiply(a, q2)\n",
    "\n",
    "#inverse DCT\n",
    "inverse = idctn(a, norm=\"ortho\")\n",
    "\n",
    "#round all values\n",
    "rounded = np.round(inverse)\n",
    "\n",
    "#add 128 to all entries\n",
    "img = rounded + 128\n",
    "\n",
    "print(img)\n",
    "#clip values outside [0, 255]\n",
    "\n",
    "test = np.array([[-416, -33, -60, 32, 48, -40, 0, 0],\n",
    "                [0, -24, -56, 19, 26, 0, 0, 0],\n",
    "                [-42, 13, 80, -24, -40, 0, 0, 0],\n",
    "                [-42, 17, 44, -29, 0, 0, 0, 0],\n",
    "                [18, 0, 0, 0, 0, 0, 0, 0],\n",
    "                [0, 0, 0, 0, 0, 0, 0, 0],\n",
    "                [0, 0, 0, 0, 0, 0, 0, 0],\n",
    "                [0, 0, 0, 0, 0, 0, 0, 0]])\n",
    "#r = idctn(test, norm=\"ortho\")\n",
    "#r = np.round(r)"
   ]
  },
  {
   "cell_type": "code",
   "execution_count": 37,
   "metadata": {},
   "outputs": [
    {
     "data": {
      "text/plain": [
       "<module 'matplotlib.pyplot' from 'c:\\\\users\\\\skyle\\\\appdata\\\\local\\\\programs\\\\python\\\\python36-32\\\\lib\\\\site-packages\\\\matplotlib\\\\pyplot.py'>"
      ]
     },
     "execution_count": 37,
     "metadata": {},
     "output_type": "execute_result"
    },
    {
     "data": {
      "image/png": "[encoded data removed]",
      "text/plain": [
       "<Figure size 432x288 with 1 Axes>"
      ]
     },
     "metadata": {
      "needs_background": "light"
     },
     "output_type": "display_data"
    }
   ],
   "source": [
    "import matplotlib.pyplot as plt\n",
    "img = [[[45,255,43]]]\n",
    "plt.imshow(img)\n",
    "plt"
   ]
  },
  {
   "cell_type": "code",
   "execution_count": null,
   "metadata": {},
   "outputs": [],
   "source": []
  }
 ],
 "metadata": {
  "kernelspec": {
   "display_name": "Python 3",
   "language": "python",
   "name": "python3"
  },
  "language_info": {
   "codemirror_mode": {
    "name": "ipython",
    "version": 3
   },
   "file_extension": ".py",
   "mimetype": "text/x-python",
   "name": "python",
   "nbconvert_exporter": "python",
   "pygments_lexer": "ipython3",
   "version": "3.6.3"
  }
 },
 "nbformat": 4,
 "nbformat_minor": 2
}
